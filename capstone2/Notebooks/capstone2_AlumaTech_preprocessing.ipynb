{
 "cells": [
  {
   "cell_type": "markdown",
   "id": "cbd0f966-93a8-446a-8933-edc5673171b3",
   "metadata": {},
   "source": [
    "<h2>Capstone Two: Pre-processing and Training Data Development</h2>"
   ]
  },
  {
   "cell_type": "markdown",
   "id": "e08cad93-b09c-4c1f-8207-4dcd44617068",
   "metadata": {},
   "source": [
    "The goal of this step is to prepare a clean and structured dataset ready for model training. This includes encoding categorical variables, standardizing numerical features, and splitting the data into training and testing sets. Most of the cleaning has been performed in the previous notebooks. Some alloys are removed do to low plate counts. Final dataframe contains only the predictor columns and target column."
   ]
  },
  {
   "cell_type": "code",
   "execution_count": 3,
   "id": "1d3f8e21-265e-4c1f-ba5d-8e3d7ddc8b82",
   "metadata": {},
   "outputs": [],
   "source": [
    "import pandas as pd\n",
    "import numpy as np\n",
    "from sklearn.model_selection import train_test_split\n",
    "from sklearn.preprocessing import StandardScaler, OneHotEncoder\n",
    "import joblib\n",
    "from sklearn.compose import ColumnTransformer"
   ]
  },
  {
   "cell_type": "code",
   "execution_count": 4,
   "id": "fcb48435-1027-42d0-a0a8-934359950d74",
   "metadata": {},
   "outputs": [],
   "source": [
    "df = pd.read_parquet('../data/eda_data.parquet')"
   ]
  },
  {
   "cell_type": "markdown",
   "id": "809b52d8-ba68-4f29-947b-40bfefcbb5c5",
   "metadata": {},
   "source": [
    "Determine alloys with too low volume."
   ]
  },
  {
   "cell_type": "code",
   "execution_count": 6,
   "id": "a7664f8b-e9c2-47a8-9ea1-67095e0d0653",
   "metadata": {},
   "outputs": [
    {
     "data": {
      "text/plain": [
       "alloy\n",
       "XR7AT0K50    129044\n",
       "XVKKT7H51    100586\n",
       "XR6AT0K61     83875\n",
       "XR7AT0K75     47386\n",
       "XR7AT1K75     23302\n",
       "XVKKT7H55     16569\n",
       "XVKKT7H52     16157\n",
       "XR2AT1K24     14350\n",
       "XR7AT4K75     13436\n",
       "XR2AT0K24      9597\n",
       "XVKKT6H69      8581\n",
       "XVKKT2H12      7773\n",
       "XVKKT6H61      6553\n",
       "XR2AT2K19      3629\n",
       "XVKKT7H77      2184\n",
       "XVKKT2H14      1165\n",
       "XVKKT7H71       807\n",
       "XVKKT7H90       608\n",
       "XR6AT1K01       321\n",
       "XR2AT0K14       186\n",
       "XVKKT7H80       124\n",
       "XVKKT7H91        64\n",
       "XR7AT0K17        20\n",
       "XVKKT2H81        17\n",
       "XVKKT2H71         9\n",
       "XR2AT0K50         5\n",
       "Name: count, dtype: int64"
      ]
     },
     "execution_count": 6,
     "metadata": {},
     "output_type": "execute_result"
    }
   ],
   "source": [
    "df['alloy'].value_counts()"
   ]
  },
  {
   "cell_type": "code",
   "execution_count": 7,
   "id": "64d1977f-d971-4d6a-8717-61cf1c53d7ba",
   "metadata": {},
   "outputs": [],
   "source": [
    "alloy_counts = df['alloy'].value_counts()\n",
    "alloys_to_drop = alloy_counts[alloy_counts <= 500].index\n",
    "df.drop(df[df['alloy'].isin(alloys_to_drop)].index, inplace=True)"
   ]
  },
  {
   "cell_type": "code",
   "execution_count": 8,
   "id": "49090cf4-72e2-4452-b181-282603f994ea",
   "metadata": {},
   "outputs": [
    {
     "data": {
      "text/plain": [
       "alloy                           object\n",
       "job                             object\n",
       "lot                             object\n",
       "piece                           object\n",
       "gauge                          float64\n",
       "width                          float64\n",
       "length                         float64\n",
       "delay                          float64\n",
       "prestretch_force                 int64\n",
       "stretch_target                 float64\n",
       "stretch_actual                 float64\n",
       "max_force                        int64\n",
       "step_duration          timedelta64[ns]\n",
       "pre_stretch_length             float64\n",
       "post_stretch_length            float64\n",
       "yield_point                      int64\n",
       "discharge               datetime64[ns]\n",
       "step_start_datetime     datetime64[ns]\n",
       "key                             object\n",
       "unitized_PF                    float64\n",
       "flow_stress                      int64\n",
       "max_force_Mlbs                 float64\n",
       "max_force_mlbs                 float64\n",
       "dtype: object"
      ]
     },
     "execution_count": 8,
     "metadata": {},
     "output_type": "execute_result"
    }
   ],
   "source": [
    "df.dtypes"
   ]
  },
  {
   "cell_type": "markdown",
   "id": "afc1cf02-6b10-4d6b-81e4-7ff72f2bfce0",
   "metadata": {},
   "source": [
    "Keep just the predictor columns (columns that contain known values prior to a plate being stretched) and the target column ('flow_stress')."
   ]
  },
  {
   "cell_type": "code",
   "execution_count": 10,
   "id": "26ed031d-255d-4391-81af-7c8d6c3e609b",
   "metadata": {},
   "outputs": [],
   "source": [
    "df = df[['alloy','gauge','width','length','stretch_target','flow_stress']]"
   ]
  },
  {
   "cell_type": "code",
   "execution_count": 11,
   "id": "6a064403-ccaf-44e7-b758-d3581261425a",
   "metadata": {},
   "outputs": [],
   "source": [
    "df['gauge'] = ((df['gauge'] / 0.1).round() * 0.1).round(1)\n",
    "df['width'] = ((df['width'] / 0.25).round() * 0.25).round(2)\n",
    "df['length'] = ((df['length'] / 0.5).round() * 0.5).round(2)"
   ]
  },
  {
   "cell_type": "code",
   "execution_count": 12,
   "id": "79e60ad9-69f4-42a5-af4e-45e089d9699c",
   "metadata": {},
   "outputs": [],
   "source": [
    "df.to_csv('../data/prepped_data.csv')"
   ]
  },
  {
   "cell_type": "code",
   "execution_count": 13,
   "id": "a4c461bb-09b2-49d4-ad7d-2587d7d9e867",
   "metadata": {},
   "outputs": [
    {
     "data": {
      "text/html": [
       "<div>\n",
       "<style scoped>\n",
       "    .dataframe tbody tr th:only-of-type {\n",
       "        vertical-align: middle;\n",
       "    }\n",
       "\n",
       "    .dataframe tbody tr th {\n",
       "        vertical-align: top;\n",
       "    }\n",
       "\n",
       "    .dataframe thead th {\n",
       "        text-align: right;\n",
       "    }\n",
       "</style>\n",
       "<table border=\"1\" class=\"dataframe\">\n",
       "  <thead>\n",
       "    <tr style=\"text-align: right;\">\n",
       "      <th></th>\n",
       "      <th>alloy</th>\n",
       "      <th>gauge</th>\n",
       "      <th>width</th>\n",
       "      <th>length</th>\n",
       "      <th>stretch_target</th>\n",
       "      <th>flow_stress</th>\n",
       "    </tr>\n",
       "  </thead>\n",
       "  <tbody>\n",
       "    <tr>\n",
       "      <th>0</th>\n",
       "      <td>XR7AT0K50</td>\n",
       "      <td>4.0</td>\n",
       "      <td>56.25</td>\n",
       "      <td>356.0</td>\n",
       "      <td>2.00</td>\n",
       "      <td>37668</td>\n",
       "    </tr>\n",
       "    <tr>\n",
       "      <th>1</th>\n",
       "      <td>XR7AT0K50</td>\n",
       "      <td>4.0</td>\n",
       "      <td>56.25</td>\n",
       "      <td>358.0</td>\n",
       "      <td>2.00</td>\n",
       "      <td>38721</td>\n",
       "    </tr>\n",
       "    <tr>\n",
       "      <th>2</th>\n",
       "      <td>XR7AT0K50</td>\n",
       "      <td>3.8</td>\n",
       "      <td>56.50</td>\n",
       "      <td>343.0</td>\n",
       "      <td>2.00</td>\n",
       "      <td>38154</td>\n",
       "    </tr>\n",
       "    <tr>\n",
       "      <th>3</th>\n",
       "      <td>XR7AT0K50</td>\n",
       "      <td>3.8</td>\n",
       "      <td>56.50</td>\n",
       "      <td>344.0</td>\n",
       "      <td>2.00</td>\n",
       "      <td>38175</td>\n",
       "    </tr>\n",
       "    <tr>\n",
       "      <th>4</th>\n",
       "      <td>XR7AT0K50</td>\n",
       "      <td>4.0</td>\n",
       "      <td>56.00</td>\n",
       "      <td>355.0</td>\n",
       "      <td>2.00</td>\n",
       "      <td>39459</td>\n",
       "    </tr>\n",
       "    <tr>\n",
       "      <th>...</th>\n",
       "      <td>...</td>\n",
       "      <td>...</td>\n",
       "      <td>...</td>\n",
       "      <td>...</td>\n",
       "      <td>...</td>\n",
       "      <td>...</td>\n",
       "    </tr>\n",
       "    <tr>\n",
       "      <th>486568</th>\n",
       "      <td>XR7AT4K75</td>\n",
       "      <td>3.0</td>\n",
       "      <td>55.75</td>\n",
       "      <td>240.0</td>\n",
       "      <td>2.00</td>\n",
       "      <td>35936</td>\n",
       "    </tr>\n",
       "    <tr>\n",
       "      <th>486569</th>\n",
       "      <td>XR7AT4K75</td>\n",
       "      <td>4.0</td>\n",
       "      <td>55.75</td>\n",
       "      <td>340.5</td>\n",
       "      <td>2.00</td>\n",
       "      <td>35639</td>\n",
       "    </tr>\n",
       "    <tr>\n",
       "      <th>486570</th>\n",
       "      <td>XVKKT7H51</td>\n",
       "      <td>2.8</td>\n",
       "      <td>69.50</td>\n",
       "      <td>296.5</td>\n",
       "      <td>2.25</td>\n",
       "      <td>41976</td>\n",
       "    </tr>\n",
       "    <tr>\n",
       "      <th>486571</th>\n",
       "      <td>XVKKT7H51</td>\n",
       "      <td>2.8</td>\n",
       "      <td>69.50</td>\n",
       "      <td>294.0</td>\n",
       "      <td>2.25</td>\n",
       "      <td>42350</td>\n",
       "    </tr>\n",
       "    <tr>\n",
       "      <th>486572</th>\n",
       "      <td>XVKKT7H51</td>\n",
       "      <td>2.8</td>\n",
       "      <td>69.50</td>\n",
       "      <td>300.0</td>\n",
       "      <td>2.25</td>\n",
       "      <td>41554</td>\n",
       "    </tr>\n",
       "  </tbody>\n",
       "</table>\n",
       "<p>485602 rows × 6 columns</p>\n",
       "</div>"
      ],
      "text/plain": [
       "            alloy  gauge  width  length  stretch_target  flow_stress\n",
       "0       XR7AT0K50    4.0  56.25   356.0            2.00        37668\n",
       "1       XR7AT0K50    4.0  56.25   358.0            2.00        38721\n",
       "2       XR7AT0K50    3.8  56.50   343.0            2.00        38154\n",
       "3       XR7AT0K50    3.8  56.50   344.0            2.00        38175\n",
       "4       XR7AT0K50    4.0  56.00   355.0            2.00        39459\n",
       "...           ...    ...    ...     ...             ...          ...\n",
       "486568  XR7AT4K75    3.0  55.75   240.0            2.00        35936\n",
       "486569  XR7AT4K75    4.0  55.75   340.5            2.00        35639\n",
       "486570  XVKKT7H51    2.8  69.50   296.5            2.25        41976\n",
       "486571  XVKKT7H51    2.8  69.50   294.0            2.25        42350\n",
       "486572  XVKKT7H51    2.8  69.50   300.0            2.25        41554\n",
       "\n",
       "[485602 rows x 6 columns]"
      ]
     },
     "execution_count": 13,
     "metadata": {},
     "output_type": "execute_result"
    }
   ],
   "source": [
    "df"
   ]
  },
  {
   "cell_type": "markdown",
   "id": "ce957063-b2ef-4222-9c42-47ead933628d",
   "metadata": {},
   "source": [
    "Seperate and split the predictors / target into training and testing sets."
   ]
  },
  {
   "cell_type": "code",
   "execution_count": 15,
   "id": "7dd3cde6-469d-426a-80b2-1e200c8eb3bb",
   "metadata": {},
   "outputs": [],
   "source": [
    "X = df.drop(columns='flow_stress')  \n",
    "y = df['flow_stress']"
   ]
  },
  {
   "cell_type": "markdown",
   "id": "8615b3b5-7606-47fe-a96d-27bd07bb67e3",
   "metadata": {},
   "source": [
    "Ensure the test size is split per alloy category."
   ]
  },
  {
   "cell_type": "code",
   "execution_count": 17,
   "id": "60915ae8-cee3-41dd-a038-1284c88998ed",
   "metadata": {},
   "outputs": [],
   "source": [
    "X_train, X_test, y_train, y_test = train_test_split(\n",
    "    X, y, test_size=0.2, random_state=42, stratify=X['alloy'])"
   ]
  },
  {
   "cell_type": "code",
   "execution_count": 18,
   "id": "dbb195a3-f333-430b-aec8-e4b5fc4f6776",
   "metadata": {},
   "outputs": [],
   "source": [
    "# Define features\n",
    "numeric_features = ['gauge', 'width', 'length', 'stretch_target']\n",
    "categorical_features = ['alloy']"
   ]
  },
  {
   "cell_type": "markdown",
   "id": "1ed24c42-8c58-4686-a14e-e5c2df133d08",
   "metadata": {},
   "source": [
    "Define Preprocessing Pipeline for easier prediction checking in modeling steps."
   ]
  },
  {
   "cell_type": "code",
   "execution_count": 20,
   "id": "19124d50-1021-4ff3-991d-3fa87c3e360b",
   "metadata": {},
   "outputs": [],
   "source": [
    "# Define preprocessing pipeline\n",
    "preprocessor = ColumnTransformer(\n",
    "    transformers=[\n",
    "        ('num', StandardScaler(), numeric_features),\n",
    "        ('cat', OneHotEncoder(handle_unknown='ignore'), categorical_features)\n",
    "    ]\n",
    ")"
   ]
  },
  {
   "cell_type": "markdown",
   "id": "ca6b7bee-6469-43d1-ab5a-8e99194803e7",
   "metadata": {},
   "source": [
    "Scale, fit, and transform the features."
   ]
  },
  {
   "cell_type": "code",
   "execution_count": 22,
   "id": "0a3c9fc8-3e7f-42cd-9c5a-3e2d135ecc60",
   "metadata": {},
   "outputs": [],
   "source": [
    "preprocessor.fit(X_train)\n",
    "\n",
    "X_train_transformed = preprocessor.transform(X_train)\n",
    "X_test_transformed = preprocessor.transform(X_test)"
   ]
  },
  {
   "cell_type": "code",
   "execution_count": 23,
   "id": "241a1a4d-5e6b-4bb8-9fa6-4775c50598f2",
   "metadata": {},
   "outputs": [
    {
     "data": {
      "text/plain": [
       "['preprocessor.pkl']"
      ]
     },
     "execution_count": 23,
     "metadata": {},
     "output_type": "execute_result"
    }
   ],
   "source": [
    "# Save preprocessor\n",
    "joblib.dump(preprocessor, 'preprocessor.pkl')"
   ]
  },
  {
   "cell_type": "markdown",
   "id": "89d1da14-ec7c-4fcf-b545-0542f30f8b8c",
   "metadata": {},
   "source": [
    "Save to new files."
   ]
  },
  {
   "cell_type": "code",
   "execution_count": 25,
   "id": "eaee251d-6a00-4b96-90c0-3937c8c9d84e",
   "metadata": {},
   "outputs": [],
   "source": [
    "X_train = X_train.reset_index(drop=True)\n",
    "y_train = y_train.reset_index(drop=True)\n",
    "X_test = X_test.reset_index(drop=True)\n",
    "y_test = y_test.reset_index(drop=True)"
   ]
  },
  {
   "cell_type": "code",
   "execution_count": 26,
   "id": "cdedf1ec-ec1b-40f3-9a76-4d9c760a0778",
   "metadata": {},
   "outputs": [],
   "source": [
    "# Convert to DataFrames\n",
    "\n",
    "feature_names = preprocessor.get_feature_names_out()\n",
    "\n",
    "X_train = pd.DataFrame(X_train_transformed.toarray(), columns=feature_names)\n",
    "X_test = pd.DataFrame(X_test_transformed.toarray(), columns=feature_names)\n",
    "\n",
    "X_train.to_parquet('../data/X_train_data.parquet')\n",
    "X_test.to_parquet('../data/X_test_data.parquet')\n",
    "y_train.to_frame().to_parquet('../data/y_train_data.parquet')\n",
    "y_test.to_frame().to_parquet('../data/y_test_data.parquet')"
   ]
  }
 ],
 "metadata": {
  "kernelspec": {
   "display_name": "Python [conda env:base] *",
   "language": "python",
   "name": "conda-base-py"
  },
  "language_info": {
   "codemirror_mode": {
    "name": "ipython",
    "version": 3
   },
   "file_extension": ".py",
   "mimetype": "text/x-python",
   "name": "python",
   "nbconvert_exporter": "python",
   "pygments_lexer": "ipython3",
   "version": "3.12.7"
  }
 },
 "nbformat": 4,
 "nbformat_minor": 5
}
