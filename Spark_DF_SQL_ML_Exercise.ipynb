{
  "cells": [
    {
      "cell_type": "markdown",
      "metadata": {
        "id": "VsNYwUleOhHC"
      },
      "source": [
        "# Install Spark\n",
        "\n",
        "The below comands will install spark locally in our colab instance."
      ]
    },
    {
      "cell_type": "code",
      "execution_count": 1,
      "metadata": {
        "colab": {
          "base_uri": "https://localhost:8080/"
        },
        "id": "ydPIDOS1OhHE",
        "outputId": "e29a3b17-e2bb-42f9-8d44-be63be40f40e"
      },
      "outputs": [
        {
          "output_type": "stream",
          "name": "stdout",
          "text": [
            "Spark: 3.5.1\n"
          ]
        }
      ],
      "source": [
        "# Colab: Java + PySpark\n",
        "#!apt-get update -y && apt-get install -y openjdk-17-jdk\n",
        "#!pip install -q pyspark==3.5.4\n",
        "import os, subprocess\n",
        "os.environ[\"JAVA_HOME\"] = subprocess.check_output(\n",
        "    \"readlink -f /usr/bin/java | sed 's:/bin/java::'\", shell=True\n",
        ").decode().strip()\n",
        "from pyspark.sql import SparkSession\n",
        "spark = SparkSession.builder.master(\"local[*]\").appName(\"adult-mllib\").getOrCreate()\n",
        "print(\"Spark:\", spark.version)"
      ]
    },
    {
      "cell_type": "markdown",
      "metadata": {
        "application/vnd.databricks.v1+cell": {
          "inputWidgets": {},
          "nuid": "3c97b0a2-00f9-46fa-8e3d-661a6a5ef59d",
          "showTitle": false,
          "title": ""
        },
        "id": "7oFu5ZoQOhHE"
      },
      "source": [
        "## Exercise Overview\n",
        "In this exercise we will play with Spark [Datasets & Dataframes](https://spark.apache.org/docs/latest/sql-programming-guide.html#datasets-and-dataframes), some [Spark SQL](https://spark.apache.org/docs/latest/sql-programming-guide.html#sql), and build a couple of binary classifiaction models using [Spark ML](https://spark.apache.org/docs/latest/ml-guide.html) (with some [MLlib](https://spark.apache.org/mllib/) too).\n",
        "<br><br>\n",
        "The set up and approach will not be too dissimilar to the standard type of approach you might do in [Sklearn](http://scikit-learn.org/stable/index.html). Spark has matured to the stage now where for 90% of what you need to do (when analysisng tabular data) should be possible with Spark dataframes, SQL, and ML libraries. This is where this exerise is mainly trying to focus.  \n",
        "<br>\n",
        "\n",
        "#### Links & References\n",
        "\n",
        "Some useful links and references of sources used in creating this exercise:\n",
        "\n",
        "**Note**: Right click and open as new tab!\n",
        "<br>\n",
        "1. [Latest Spark Docs](https://spark.apache.org/docs/latest/index.html)\n",
        "1. [Databricks Homepage](https://databricks.com/)\n",
        "1. [Databricks Community Edition FAQ](https://databricks.com/product/faq/community-edition)\n",
        "1. [Databricks Self Paced Training](https://databricks.com/training-overview/training-self-paced)\n",
        "1. [Databricks Notebook Guide](https://docs.databricks.com/user-guide/notebooks/index.html)\n",
        "1. [Databricks Binary Classification Tutorial](https://docs.databricks.com/spark/latest/mllib/binary-classification-mllib-pipelines.html#binary-classification)"
      ]
    },
    {
      "cell_type": "markdown",
      "metadata": {
        "application/vnd.databricks.v1+cell": {
          "inputWidgets": {},
          "nuid": "695a1fed-7ad1-4a91-bd70-46e0275a793e",
          "showTitle": false,
          "title": ""
        },
        "id": "fNxZiHwwOhHF"
      },
      "source": [
        "#### Get Data\n",
        "\n",
        "Here we will pull in some sample data from the UCI data repository.\n",
        "\n",
        "Feel free to adapt this notebook later to play around with a different dataset if you like (all available are listed in a cell below)."
      ]
    },
    {
      "cell_type": "code",
      "execution_count": 2,
      "metadata": {
        "colab": {
          "base_uri": "https://localhost:8080/"
        },
        "id": "V0BslTH7OhHF",
        "outputId": "f7bdc163-3a59-491a-88fe-3a1deca76b89"
      },
      "outputs": [
        {
          "output_type": "stream",
          "name": "stdout",
          "text": [
            "+------+\n",
            "|n_rows|\n",
            "+------+\n",
            "| 30162|\n",
            "+------+\n",
            "\n",
            "+---+----------------+------+---------+-------------+------------------+-----------------+-------------+-----+------+------------+------------+--------------+--------------+------+\n",
            "|age|       workclass|fnlwgt|education|education_num|    marital_status|       occupation| relationship| race|   sex|capital_gain|capital_loss|hours_per_week|native_country|income|\n",
            "+---+----------------+------+---------+-------------+------------------+-----------------+-------------+-----+------+------------+------------+--------------+--------------+------+\n",
            "| 39|       State-gov| 77516|Bachelors|           13|     Never-married|     Adm-clerical|Not-in-family|White|  Male|        2174|           0|            40| United-States| <=50K|\n",
            "| 50|Self-emp-not-inc| 83311|Bachelors|           13|Married-civ-spouse|  Exec-managerial|      Husband|White|  Male|           0|           0|            13| United-States| <=50K|\n",
            "| 38|         Private|215646|  HS-grad|            9|          Divorced|Handlers-cleaners|Not-in-family|White|  Male|           0|           0|            40| United-States| <=50K|\n",
            "| 53|         Private|234721|     11th|            7|Married-civ-spouse|Handlers-cleaners|      Husband|Black|  Male|           0|           0|            40| United-States| <=50K|\n",
            "| 28|         Private|338409|Bachelors|           13|Married-civ-spouse|   Prof-specialty|         Wife|Black|Female|           0|           0|            40|          Cuba| <=50K|\n",
            "+---+----------------+------+---------+-------------+------------------+-----------------+-------------+-----+------+------------+------------+--------------+--------------+------+\n",
            "\n"
          ]
        }
      ],
      "source": [
        "try:\n",
        "    spark\n",
        "except NameError:\n",
        "    from pyspark.sql import SparkSession\n",
        "    spark = (\n",
        "        SparkSession.builder\n",
        "        .master(\"local[*]\")\n",
        "        .appName(\"adult-colab\")\n",
        "        .getOrCreate()\n",
        "    )\n",
        "import pandas as pd\n",
        "cols = [\n",
        "    \"age\",\"workclass\",\"fnlwgt\",\"education\",\"education_num\",\"marital_status\",\n",
        "    \"occupation\",\"relationship\",\"race\",\"sex\",\"capital_gain\",\"capital_loss\",\n",
        "    \"hours_per_week\",\"native_country\",\"income\"\n",
        "]\n",
        "pdf = pd.read_csv(\n",
        "    \"https://archive.ics.uci.edu/ml/machine-learning-databases/adult/adult.data\",\n",
        "    header=None,\n",
        "    names=cols,\n",
        "    skipinitialspace=True,\n",
        "    na_values=[\"?\", \" ?\"]\n",
        ")\n",
        "for c in pdf.select_dtypes(include=\"object\").columns:\n",
        "    pdf[c] = pdf[c].str.strip()\n",
        "pdf = pdf.dropna().reset_index(drop=True)\n",
        "sdf = spark.createDataFrame(pdf)\n",
        "spark.sql(\"CREATE DATABASE IF NOT EXISTS main\")\n",
        "spark.sql(\"USE main\")\n",
        "spark.sql(\"DROP TABLE IF EXISTS adult\")\n",
        "sdf.createOrReplaceTempView(\"adult_src\")\n",
        "spark.sql(\"\"\"\n",
        "CREATE TABLE adult\n",
        "USING PARQUET\n",
        "AS SELECT * FROM adult_src\n",
        "\"\"\")\n",
        "spark.sql(\"CREATE OR REPLACE TEMP VIEW adult AS SELECT * FROM adult\")\n",
        "spark.sql(\"SELECT COUNT(*) AS n_rows FROM adult\").show()\n",
        "spark.sql(\"SELECT * FROM adult LIMIT 5\").show()"
      ]
    },
    {
      "cell_type": "markdown",
      "metadata": {
        "application/vnd.databricks.v1+cell": {
          "inputWidgets": {},
          "nuid": "84d3180c-0f4b-4375-8f97-7975ca99ef77",
          "showTitle": false,
          "title": ""
        },
        "id": "qS9JZhdtOhHF"
      },
      "source": [
        "#### Spark SQL\n",
        "Below we will use Spark SQL to load in the data and then register it as a Dataframe aswell. So the end result will be a Spark SQL table called 'adult' and a Spark Dataframe called 'df_adult'.\n",
        "<br><br>\n",
        "This is an example of the flexibility in Spark in that you could do lots of you ETL and data wrangling using either Spark SQL or Dataframes and pyspark. Most of the time it's a case of using whatever you are most comfortable with.\n",
        "<br><br>\n",
        "When you get more advanced then you might consider learning about the pro's and con's of each and in what circumstances you might favour one over the other (or operating direclty on RDD's), [here](https://databricks.com/blog/2016/07/14/a-tale-of-three-apache-spark-apis-rdds-dataframes-and-datasets.html) is a good article on the issues. For now, no need to overthink it!"
      ]
    },
    {
      "cell_type": "code",
      "execution_count": 3,
      "metadata": {
        "application/vnd.databricks.v1+cell": {
          "inputWidgets": {},
          "nuid": "b73f000c-7068-4d9c-a559-18dc7bda95f0",
          "showTitle": false,
          "title": ""
        },
        "colab": {
          "base_uri": "https://localhost:8080/"
        },
        "id": "hDbZJSDDOhHF",
        "outputId": "085e4f6a-473c-4e81-cc53-21c595bcc125"
      },
      "outputs": [
        {
          "output_type": "stream",
          "name": "stdout",
          "text": [
            "+---+----------------+------+---------+-------------+------------------+-----------------+-------------+-----+------+------------+------------+--------------+--------------+------+\n",
            "|age|       workclass|fnlwgt|education|education_num|    marital_status|       occupation| relationship| race|   sex|capital_gain|capital_loss|hours_per_week|native_country|income|\n",
            "+---+----------------+------+---------+-------------+------------------+-----------------+-------------+-----+------+------------+------------+--------------+--------------+------+\n",
            "| 39|       State-gov| 77516|Bachelors|           13|     Never-married|     Adm-clerical|Not-in-family|White|  Male|        2174|           0|            40| United-States| <=50K|\n",
            "| 50|Self-emp-not-inc| 83311|Bachelors|           13|Married-civ-spouse|  Exec-managerial|      Husband|White|  Male|           0|           0|            13| United-States| <=50K|\n",
            "| 38|         Private|215646|  HS-grad|            9|          Divorced|Handlers-cleaners|Not-in-family|White|  Male|           0|           0|            40| United-States| <=50K|\n",
            "| 53|         Private|234721|     11th|            7|Married-civ-spouse|Handlers-cleaners|      Husband|Black|  Male|           0|           0|            40| United-States| <=50K|\n",
            "| 28|         Private|338409|Bachelors|           13|Married-civ-spouse|   Prof-specialty|         Wife|Black|Female|           0|           0|            40|          Cuba| <=50K|\n",
            "+---+----------------+------+---------+-------------+------------------+-----------------+-------------+-----+------+------------+------------+--------------+--------------+------+\n",
            "\n"
          ]
        }
      ],
      "source": [
        "# look at the data\n",
        "spark.sql(\"SELECT * FROM adult LIMIT 5\").show()"
      ]
    },
    {
      "cell_type": "markdown",
      "metadata": {
        "application/vnd.databricks.v1+cell": {
          "inputWidgets": {},
          "nuid": "7b41c5e9-3101-41ba-a7e9-9e84399f3150",
          "showTitle": false,
          "title": ""
        },
        "id": "OE51stVZOhHG"
      },
      "source": [
        "If you are more comfortable with SQL then as you can see below, its very easy to just get going with writing standard SQL type code to analyse your data, do data wrangling and create new dataframes."
      ]
    },
    {
      "cell_type": "code",
      "execution_count": 4,
      "metadata": {
        "application/vnd.databricks.v1+cell": {
          "inputWidgets": {},
          "nuid": "1219e3d2-a3ff-4d81-b688-c6751f950822",
          "showTitle": false,
          "title": ""
        },
        "colab": {
          "base_uri": "https://localhost:8080/"
        },
        "id": "f5quCZziOhHG",
        "outputId": "884e0531-7a9c-469e-d8b3-f2ca2e18ea81"
      },
      "outputs": [
        {
          "output_type": "stream",
          "name": "stdout",
          "text": [
            "+-----------------+----+------------+----------+------------+--------------+-------------+\n",
            "|       occupation|   n|married_rate|widow_rate|divorce_rate|separated_rate|bachelor_rate|\n",
            "+-----------------+----+------------+----------+------------+--------------+-------------+\n",
            "|   Prof-specialty|4038|        0.52|      0.02|        0.13|          0.02|          0.3|\n",
            "|     Craft-repair|4030|        0.64|      0.01|        0.11|          0.02|         0.21|\n",
            "|  Exec-managerial|3992|        0.61|      0.02|        0.15|          0.02|          0.2|\n",
            "|     Adm-clerical|3721|        0.28|      0.04|        0.22|          0.04|         0.42|\n",
            "|            Sales|3584|        0.46|      0.03|        0.12|          0.03|         0.36|\n",
            "|    Other-service|3212|        0.24|      0.05|        0.15|          0.06|          0.5|\n",
            "|Machine-op-inspct|1966|        0.51|      0.03|        0.14|          0.04|         0.29|\n",
            "| Transport-moving|1572|        0.64|      0.02|        0.11|          0.02|         0.21|\n",
            "|Handlers-cleaners|1350|        0.35|      0.01|        0.09|          0.03|         0.51|\n",
            "|  Farming-fishing| 989|        0.61|      0.02|        0.06|          0.02|         0.29|\n",
            "|     Tech-support| 912|        0.44|      0.02|        0.15|          0.03|         0.36|\n",
            "|  Protective-serv| 644|         0.6|      0.01|        0.12|          0.02|         0.24|\n",
            "|  Priv-house-serv| 143|        0.13|      0.15|        0.19|          0.08|         0.44|\n",
            "|     Armed-Forces|   9|        0.33|       0.0|         0.0|           0.0|         0.67|\n",
            "+-----------------+----+------------+----------+------------+--------------+-------------+\n",
            "\n"
          ]
        }
      ],
      "source": [
        "# Lets get some summary marital status rates by occupation\n",
        "result = spark.sql(\n",
        "  \"\"\"\n",
        "  SELECT\n",
        "    occupation,\n",
        "    SUM(1) as n,\n",
        "    ROUND(AVG(if(LTRIM(marital_status) LIKE 'Married-%',1,0)),2) as married_rate,\n",
        "    ROUND(AVG(if(lower(marital_status) LIKE '%widow%',1,0)),2) as widow_rate,\n",
        "    ROUND(AVG(if(LTRIM(marital_status) = 'Divorced',1,0)),2) as divorce_rate,\n",
        "    ROUND(AVG(if(LTRIM(marital_status) = 'Separated',1,0)),2) as separated_rate,\n",
        "    ROUND(AVG(if(LTRIM(marital_status) = 'Never-married',1,0)),2) as bachelor_rate\n",
        "  FROM\n",
        "    adult\n",
        "  GROUP BY 1\n",
        "  ORDER BY n DESC\n",
        "  \"\"\")\n",
        "result.show()"
      ]
    },
    {
      "cell_type": "markdown",
      "metadata": {
        "application/vnd.databricks.v1+cell": {
          "inputWidgets": {},
          "nuid": "ce745db8-1b57-47cd-976b-4ce3ee440604",
          "showTitle": false,
          "title": ""
        },
        "id": "33oJTT7EOhHG"
      },
      "source": [
        "You can easily register dataframes as a table for Spark SQL too. So this way you can easily move between Dataframes and Spark SQL for whatever reason."
      ]
    },
    {
      "cell_type": "code",
      "execution_count": 5,
      "metadata": {
        "application/vnd.databricks.v1+cell": {
          "inputWidgets": {},
          "nuid": "9007db35-22d8-4432-bcea-9bbb90017fa3",
          "showTitle": false,
          "title": ""
        },
        "colab": {
          "base_uri": "https://localhost:8080/"
        },
        "id": "gKDQHQu4OhHG",
        "outputId": "db993b6e-6a71-4608-9252-9faf30bf019f"
      },
      "outputs": [
        {
          "output_type": "stream",
          "name": "stdout",
          "text": [
            "+---------------+----+------------+----------+------------+--------------+-------------+\n",
            "|     occupation|   n|married_rate|widow_rate|divorce_rate|separated_rate|bachelor_rate|\n",
            "+---------------+----+------------+----------+------------+--------------+-------------+\n",
            "| Prof-specialty|4038|        0.52|      0.02|        0.13|          0.02|          0.3|\n",
            "|   Craft-repair|4030|        0.64|      0.01|        0.11|          0.02|         0.21|\n",
            "|Exec-managerial|3992|        0.61|      0.02|        0.15|          0.02|          0.2|\n",
            "|   Adm-clerical|3721|        0.28|      0.04|        0.22|          0.04|         0.42|\n",
            "|          Sales|3584|        0.46|      0.03|        0.12|          0.03|         0.36|\n",
            "+---------------+----+------------+----------+------------+--------------+-------------+\n",
            "only showing top 5 rows\n",
            "\n"
          ]
        }
      ],
      "source": [
        "# register the df we just made as a table for spark sql\n",
        "result.createOrReplaceTempView(\"result\")\n",
        "spark.sql(\"SELECT * FROM result\").show(5)"
      ]
    },
    {
      "cell_type": "markdown",
      "metadata": {
        "application/vnd.databricks.v1+cell": {
          "inputWidgets": {},
          "nuid": "24bbcd7e-55ec-4929-a898-09a27acf9269",
          "showTitle": false,
          "title": ""
        },
        "id": "58cIspoOOhHH"
      },
      "source": [
        "#### <span style=\"color:darkblue\">Question 1</span>\n",
        "\n",
        "1. Write some spark sql to get the top 'bachelor_rate' by 'education' group?"
      ]
    },
    {
      "cell_type": "code",
      "execution_count": 18,
      "metadata": {
        "application/vnd.databricks.v1+cell": {
          "inputWidgets": {},
          "nuid": "964b6472-2d89-4158-b517-0955f1e3c587",
          "showTitle": false,
          "title": ""
        },
        "id": "Pa_T7jC_OhHH",
        "outputId": "a45114b0-bf25-44ac-f643-c0854ac86e91",
        "colab": {
          "base_uri": "https://localhost:8080/"
        }
      },
      "outputs": [
        {
          "output_type": "stream",
          "name": "stdout",
          "text": [
            "+---------+-------------+\n",
            "|education|bachelor_rate|\n",
            "+---------+-------------+\n",
            "|     12th|         0.54|\n",
            "+---------+-------------+\n",
            "only showing top 1 row\n",
            "\n"
          ]
        }
      ],
      "source": [
        "### Question 1.1 Answer ###\n",
        "\n",
        "result = spark.sql(\n",
        "  \"\"\"\n",
        "  SELECT\n",
        "    education,\n",
        "    ROUND(AVG(if(LTRIM(marital_status) = 'Never-married',1,0)),2) as bachelor_rate\n",
        "  FROM\n",
        "    adult\n",
        "  GROUP BY 1\n",
        "  ORDER BY bachelor_rate DESC\n",
        "  \"\"\")\n",
        "result.show(1)"
      ]
    },
    {
      "cell_type": "markdown",
      "metadata": {
        "application/vnd.databricks.v1+cell": {
          "inputWidgets": {},
          "nuid": "82050620-e0ac-45a1-96ac-11ddce045cb9",
          "showTitle": false,
          "title": ""
        },
        "id": "Dt6nyAlCOhHH"
      },
      "source": [
        "#### Spark DataFrames\n",
        "Below we will create our DataFrame from the SQL table and do some similar analysis as we did with Spark SQL but using the DataFrames API."
      ]
    },
    {
      "cell_type": "code",
      "execution_count": 8,
      "metadata": {
        "application/vnd.databricks.v1+cell": {
          "inputWidgets": {},
          "nuid": "cbad390a-677d-4b3b-8e01-9dd7bb211ab2",
          "showTitle": false,
          "title": ""
        },
        "id": "WuB1O_I0OhHH"
      },
      "outputs": [],
      "source": [
        "# register a df from the sql df\n",
        "df_adult = spark.table(\"adult\")\n",
        "cols = df_adult.columns # this will be used much later in the notebook, ignore for now"
      ]
    },
    {
      "cell_type": "code",
      "execution_count": 9,
      "metadata": {
        "application/vnd.databricks.v1+cell": {
          "inputWidgets": {},
          "nuid": "da26c930-94a3-4289-ab00-61f5b283f9c5",
          "showTitle": false,
          "title": ""
        },
        "colab": {
          "base_uri": "https://localhost:8080/"
        },
        "id": "cEIO5mV4OhHH",
        "outputId": "5cd6f480-3416-4124-f51a-6898b77029e7"
      },
      "outputs": [
        {
          "output_type": "stream",
          "name": "stdout",
          "text": [
            "root\n",
            " |-- age: long (nullable = true)\n",
            " |-- workclass: string (nullable = true)\n",
            " |-- fnlwgt: long (nullable = true)\n",
            " |-- education: string (nullable = true)\n",
            " |-- education_num: long (nullable = true)\n",
            " |-- marital_status: string (nullable = true)\n",
            " |-- occupation: string (nullable = true)\n",
            " |-- relationship: string (nullable = true)\n",
            " |-- race: string (nullable = true)\n",
            " |-- sex: string (nullable = true)\n",
            " |-- capital_gain: long (nullable = true)\n",
            " |-- capital_loss: long (nullable = true)\n",
            " |-- hours_per_week: long (nullable = true)\n",
            " |-- native_country: string (nullable = true)\n",
            " |-- income: string (nullable = true)\n",
            "\n"
          ]
        }
      ],
      "source": [
        "# look at df schema\n",
        "df_adult.printSchema()"
      ]
    },
    {
      "cell_type": "code",
      "execution_count": 10,
      "metadata": {
        "application/vnd.databricks.v1+cell": {
          "inputWidgets": {},
          "nuid": "0443d5cc-85c8-462c-8998-0334ac36d6c1",
          "showTitle": false,
          "title": ""
        },
        "colab": {
          "base_uri": "https://localhost:8080/"
        },
        "id": "1mJVUFnWOhHH",
        "outputId": "f1b39993-7b84-4171-9702-81a74db88a21"
      },
      "outputs": [
        {
          "output_type": "stream",
          "name": "stdout",
          "text": [
            "+---+----------------+------+---------+-------------+------------------+-----------------+-------------+-----+------+------------+------------+--------------+--------------+------+\n",
            "|age|       workclass|fnlwgt|education|education_num|    marital_status|       occupation| relationship| race|   sex|capital_gain|capital_loss|hours_per_week|native_country|income|\n",
            "+---+----------------+------+---------+-------------+------------------+-----------------+-------------+-----+------+------------+------------+--------------+--------------+------+\n",
            "| 39|       State-gov| 77516|Bachelors|           13|     Never-married|     Adm-clerical|Not-in-family|White|  Male|        2174|           0|            40| United-States| <=50K|\n",
            "| 50|Self-emp-not-inc| 83311|Bachelors|           13|Married-civ-spouse|  Exec-managerial|      Husband|White|  Male|           0|           0|            13| United-States| <=50K|\n",
            "| 38|         Private|215646|  HS-grad|            9|          Divorced|Handlers-cleaners|Not-in-family|White|  Male|           0|           0|            40| United-States| <=50K|\n",
            "| 53|         Private|234721|     11th|            7|Married-civ-spouse|Handlers-cleaners|      Husband|Black|  Male|           0|           0|            40| United-States| <=50K|\n",
            "| 28|         Private|338409|Bachelors|           13|Married-civ-spouse|   Prof-specialty|         Wife|Black|Female|           0|           0|            40|          Cuba| <=50K|\n",
            "+---+----------------+------+---------+-------------+------------------+-----------------+-------------+-----+------+------------+------------+--------------+--------------+------+\n",
            "only showing top 5 rows\n",
            "\n"
          ]
        }
      ],
      "source": [
        "# look at the df\n",
        "df_adult.show(5)"
      ]
    },
    {
      "cell_type": "markdown",
      "metadata": {
        "application/vnd.databricks.v1+cell": {
          "inputWidgets": {},
          "nuid": "c6f3c980-fda5-4a86-8a83-75846e041b74",
          "showTitle": false,
          "title": ""
        },
        "id": "CEhyayQ2OhHH"
      },
      "source": [
        "Below we will do a similar calulation to what we did above but using the DataFrames API"
      ]
    },
    {
      "cell_type": "code",
      "execution_count": 12,
      "metadata": {
        "application/vnd.databricks.v1+cell": {
          "inputWidgets": {},
          "nuid": "460c47b6-0405-4ce6-8015-39625fbc514a",
          "showTitle": false,
          "title": ""
        },
        "colab": {
          "base_uri": "https://localhost:8080/"
        },
        "id": "G0pBrCOROhHH",
        "outputId": "669d9522-8253-4d53-a44e-a6215297d7c0"
      },
      "outputs": [
        {
          "output_type": "stream",
          "name": "stdout",
          "text": [
            "+---------------+-------------+\n",
            "|     occupation|divorced_rate|\n",
            "+---------------+-------------+\n",
            "|   Adm-clerical|         0.22|\n",
            "|Priv-house-serv|         0.19|\n",
            "|   Tech-support|         0.15|\n",
            "|Exec-managerial|         0.15|\n",
            "|  Other-service|         0.15|\n",
            "+---------------+-------------+\n",
            "only showing top 5 rows\n",
            "\n"
          ]
        }
      ],
      "source": [
        "# import what we will need\n",
        "from pyspark.sql.functions import when, col, mean, desc, round\n",
        "\n",
        "# wrangle the data a bit\n",
        "df_result = df_adult.select(\n",
        "  df_adult['occupation'],\n",
        "  # create a 1/0 type col on the fly\n",
        "  when( col('marital_status') == 'Divorced' , 1 ).otherwise(0).alias('is_divorced')\n",
        ")\n",
        "# do grouping (and a round)\n",
        "df_result = df_result.groupBy('occupation').agg(round(mean('is_divorced'),2).alias('divorced_rate'))\n",
        "# do ordering\n",
        "df_result = df_result.orderBy(desc('divorced_rate'))\n",
        "# show results\n",
        "df_result.show(5)"
      ]
    },
    {
      "cell_type": "markdown",
      "metadata": {
        "application/vnd.databricks.v1+cell": {
          "inputWidgets": {},
          "nuid": "2e688a7f-a03c-4c74-94ae-42d999aca3bc",
          "showTitle": false,
          "title": ""
        },
        "id": "O5hfkSEAOhHH"
      },
      "source": [
        "As you can see the dataframes api is a bit more verbose then just expressing what you want to do in standard SQL.<br><br>But some prefer it and might be more used to it, and there could be cases where expressing what you need to do might just be better using the DataFrame API if it is too complicated for a simple SQL expression for example of maybe involves recursion of some type."
      ]
    },
    {
      "cell_type": "markdown",
      "metadata": {
        "application/vnd.databricks.v1+cell": {
          "inputWidgets": {},
          "nuid": "252f073d-4272-4703-886a-4b37c9cd47f6",
          "showTitle": false,
          "title": ""
        },
        "id": "AOjxgxocOhHH"
      },
      "source": [
        "#### <span style=\"color:darkblue\">Question 2</span>\n",
        "1. Write some pyspark to get the top 'bachelor_rate' by 'education' group using DataFrame operations?"
      ]
    },
    {
      "cell_type": "code",
      "execution_count": 14,
      "metadata": {
        "application/vnd.databricks.v1+cell": {
          "inputWidgets": {},
          "nuid": "7d5c2957-a783-47ec-bcfd-a769ba0cf294",
          "showTitle": false,
          "title": ""
        },
        "id": "Nh3Gr304OhHH",
        "outputId": "959bdfab-bb6c-4a9f-cd8d-b3d0eaad5bec",
        "colab": {
          "base_uri": "https://localhost:8080/"
        }
      },
      "outputs": [
        {
          "output_type": "stream",
          "name": "stdout",
          "text": [
            "+---------+-------------+\n",
            "|education|bachelor_rate|\n",
            "+---------+-------------+\n",
            "|     12th|         0.54|\n",
            "+---------+-------------+\n",
            "only showing top 1 row\n",
            "\n"
          ]
        }
      ],
      "source": [
        "### Question 2.1 Answer ###\n",
        "\n",
        "# wrangle the data a bit\n",
        "df_result = df_adult.select(\n",
        "  df_adult['education'],\n",
        "  # create a 1/0 type col on the fly\n",
        "  when( col('marital_status') == 'Never-married' , 1 ).otherwise(0).alias('is_bachelor')\n",
        ")\n",
        "# do grouping (and a round)\n",
        "df_result = df_result.groupBy('education').agg(round(mean('is_bachelor'),2).alias('bachelor_rate'))\n",
        "# do ordering\n",
        "df_result = df_result.orderBy(desc('bachelor_rate'))\n",
        "# show results\n",
        "df_result.show(1)"
      ]
    },
    {
      "cell_type": "markdown",
      "metadata": {
        "application/vnd.databricks.v1+cell": {
          "inputWidgets": {},
          "nuid": "99f244c2-4b2e-4727-8c65-66cbd75a69f8",
          "showTitle": false,
          "title": ""
        },
        "id": "dBW7WRRyOhHI"
      },
      "source": [
        "#### Explore & Visualize Data\n",
        "It's very easy to [collect()](https://spark.apache.org/docs/latest/rdd-programming-guide.html#printing-elements-of-an-rdd) your Spark DataFrame data into a Pandas df and then continue to analyse or plot as you might normally.\n",
        "<br><br>\n",
        "Obviously if you try to collect() a huge DataFrame then you will run into issues, so usually you would only collect aggregated or sampled data into a Pandas df."
      ]
    },
    {
      "cell_type": "code",
      "execution_count": 20,
      "metadata": {
        "application/vnd.databricks.v1+cell": {
          "inputWidgets": {},
          "nuid": "7640afab-8c43-46e2-91c6-43b5834e1a23",
          "showTitle": false,
          "title": ""
        },
        "colab": {
          "base_uri": "https://localhost:8080/"
        },
        "id": "dfnVFmd4OhHI",
        "outputId": "177c7bcc-8bc1-4979-9f27-851fd1a17abb"
      },
      "outputs": [
        {
          "output_type": "stream",
          "name": "stdout",
          "text": [
            "        occupation  plus_50k\n",
            "0  Exec-managerial  0.485220\n",
            "1   Prof-specialty  0.448489\n",
            "2  Protective-serv  0.326087\n",
            "3     Tech-support  0.304825\n",
            "4            Sales  0.270647\n"
          ]
        }
      ],
      "source": [
        "import pandas as pd\n",
        "\n",
        "# do some analysis\n",
        "result = spark.sql(\n",
        "  \"\"\"\n",
        "  SELECT\n",
        "    occupation,\n",
        "    AVG(IF(income = '>50K',1,0)) as plus_50k\n",
        "  FROM\n",
        "    adult\n",
        "  GROUP BY 1\n",
        "  ORDER BY 2 DESC\n",
        "  \"\"\")\n",
        "\n",
        "# collect results into a pandas df\n",
        "df_pandas = pd.DataFrame(\n",
        "  result.collect(),\n",
        "  columns=result.schema.names\n",
        ")\n",
        "\n",
        "# look at df\n",
        "print(df_pandas.head())"
      ]
    },
    {
      "cell_type": "code",
      "execution_count": 21,
      "metadata": {
        "application/vnd.databricks.v1+cell": {
          "inputWidgets": {},
          "nuid": "5e7e5b12-632a-4dd9-b66b-6fb03ea902d4",
          "showTitle": false,
          "title": ""
        },
        "colab": {
          "base_uri": "https://localhost:8080/"
        },
        "id": "2QlyeoWhOhHI",
        "outputId": "cc5d3f95-1d95-49cb-b708-879924f68b1d"
      },
      "outputs": [
        {
          "output_type": "stream",
          "name": "stdout",
          "text": [
            "        plus_50k\n",
            "count  14.000000\n",
            "mean    0.204209\n",
            "std     0.147293\n",
            "min     0.006993\n",
            "25%     0.112403\n",
            "50%     0.168381\n",
            "75%     0.296280\n",
            "max     0.485220\n"
          ]
        }
      ],
      "source": [
        "print(df_pandas.describe())"
      ]
    },
    {
      "cell_type": "code",
      "execution_count": 22,
      "metadata": {
        "application/vnd.databricks.v1+cell": {
          "inputWidgets": {},
          "nuid": "a71f0594-35e9-480b-b3c9-7793765e3af2",
          "showTitle": false,
          "title": ""
        },
        "colab": {
          "base_uri": "https://localhost:8080/"
        },
        "id": "1_pfoePNOhHI",
        "outputId": "af8795a6-08c1-4215-8e20-69c46d9303be"
      },
      "outputs": [
        {
          "output_type": "stream",
          "name": "stdout",
          "text": [
            "<class 'pandas.core.frame.DataFrame'>\n",
            "RangeIndex: 14 entries, 0 to 13\n",
            "Data columns (total 2 columns):\n",
            " #   Column      Non-Null Count  Dtype  \n",
            "---  ------      --------------  -----  \n",
            " 0   occupation  14 non-null     object \n",
            " 1   plus_50k    14 non-null     float64\n",
            "dtypes: float64(1), object(1)\n",
            "memory usage: 356.0+ bytes\n",
            "None\n"
          ]
        }
      ],
      "source": [
        "print(df_pandas.info())"
      ]
    },
    {
      "cell_type": "markdown",
      "metadata": {
        "application/vnd.databricks.v1+cell": {
          "inputWidgets": {},
          "nuid": "b1090b4c-4789-4b83-84c7-6150b8158026",
          "showTitle": false,
          "title": ""
        },
        "id": "1utTELSLOhHI"
      },
      "source": [
        "Here we will just do some very basic plotting to show how you might collect what you are interested in into a Pandas DF and then just plot any way you normally would.\n",
        "\n",
        "For simplicity we are going to use the plotting functionality built into pandas (you could make this a pretty as you want)."
      ]
    },
    {
      "cell_type": "code",
      "execution_count": 23,
      "metadata": {
        "application/vnd.databricks.v1+cell": {
          "inputWidgets": {},
          "nuid": "946501d8-b915-4fbd-b9cb-a0a31a802078",
          "showTitle": false,
          "title": ""
        },
        "id": "c8Ft7-iZOhHI",
        "outputId": "2815aa4f-1fde-4e2f-9c5c-bea59f2f9e7a",
        "colab": {
          "base_uri": "https://localhost:8080/",
          "height": 843
        }
      },
      "outputs": [
        {
          "output_type": "display_data",
          "data": {
            "text/plain": [
              "<Figure size 640x480 with 1 Axes>"
            ],
            "image/png": "[encoded data removed]"
          },
          "metadata": {}
        },
        {
          "output_type": "display_data",
          "data": {
            "text/plain": [
              "<Figure size 640x480 with 1 Axes>"
            ],
            "image/png": "[encoded data removed]"
          },
          "metadata": {}
        }
      ],
      "source": [
        "import matplotlib.pyplot as plt\n",
        "\n",
        "# i like ggplot style\n",
        "plt.style.use('ggplot')\n",
        "\n",
        "# get simple plot on the pandas data\n",
        "myplot = df_pandas.plot(kind='barh', x='occupation', y='plus_50k')\n",
        "\n",
        "# display the plot (note - display() is a databricks function -\n",
        "# more info on plotting in Databricks is here: https://docs.databricks.com/user-guide/visualizations/matplotlib-and-ggplot.html)\n",
        "display(myplot.figure)"
      ]
    },
    {
      "cell_type": "markdown",
      "metadata": {
        "application/vnd.databricks.v1+cell": {
          "inputWidgets": {},
          "nuid": "1c9aafee-4f84-4f93-96ac-70a73bc2a588",
          "showTitle": false,
          "title": ""
        },
        "id": "EO3s8YwFOhHI"
      },
      "source": [
        "You can also easily get summary stats on a Spark DataFrame like below. [Here](https://databricks.com/blog/2015/06/02/statistical-and-mathematical-functions-with-dataframes-in-spark.html) is a nice blog post that has more examples.<br><br>So this is an example of why you might want to move from Spark SQL into DataFrames API as being able to just call describe() on the Spark DF is easier then trying to do the equivilant in Spark SQL."
      ]
    },
    {
      "cell_type": "code",
      "execution_count": 24,
      "metadata": {
        "application/vnd.databricks.v1+cell": {
          "inputWidgets": {},
          "nuid": "b2fa9c46-ff91-4424-ad28-9dd4f74f078e",
          "showTitle": false,
          "title": ""
        },
        "colab": {
          "base_uri": "https://localhost:8080/"
        },
        "id": "tBAcsZhXOhHI",
        "outputId": "120a827d-e9a8-4aca-c89a-12bae317e64f"
      },
      "outputs": [
        {
          "output_type": "stream",
          "name": "stdout",
          "text": [
            "+-------+------------------+-----------------+\n",
            "|summary|               age|    education_num|\n",
            "+-------+------------------+-----------------+\n",
            "|  count|             30162|            30162|\n",
            "|   mean|38.437901995888865|10.12131158411246|\n",
            "| stddev|13.134664776856003|2.549994918856731|\n",
            "|    min|                17|                1|\n",
            "|    max|                90|               16|\n",
            "+-------+------------------+-----------------+\n",
            "\n"
          ]
        }
      ],
      "source": [
        "# describe df\n",
        "df_adult.select(df_adult['age'],df_adult['education_num']).describe().show()"
      ]
    },
    {
      "cell_type": "markdown",
      "metadata": {
        "application/vnd.databricks.v1+cell": {
          "inputWidgets": {},
          "nuid": "3e7bfbde-68e3-47a3-9f3e-278bce83808b",
          "showTitle": false,
          "title": ""
        },
        "id": "OmRwfTLLOhHI"
      },
      "source": [
        "### ML Pipeline - Logistic Regression vs Random Forest\n",
        "\n",
        "Below we will create two [Spark ML Pipelines](https://spark.apache.org/docs/latest/ml-pipeline.html) - one that fits a logistic regression and one that fits a random forest. We will then compare the performance of each.\n",
        "\n",
        "**Note**: A lot of the code below is adapted from [this example](https://docs.databricks.com/spark/latest/mllib/binary-classification-mllib-pipelines.html)."
      ]
    },
    {
      "cell_type": "code",
      "execution_count": 25,
      "metadata": {
        "application/vnd.databricks.v1+cell": {
          "inputWidgets": {},
          "nuid": "73a32ba3-ff2c-4ca0-91ca-8e6187f24363",
          "showTitle": false,
          "title": ""
        },
        "id": "rHRFY8hEOhHI"
      },
      "outputs": [],
      "source": [
        "from pyspark.ml import Pipeline\n",
        "from pyspark.ml.feature import OneHotEncoder, StringIndexer, VectorAssembler\n",
        "\n",
        "categoricalColumns = [\"workclass\", \"education\", \"marital_status\", \"occupation\", \"relationship\", \"race\", \"sex\", \"native_country\"]\n",
        "stages = [] # stages in our Pipeline\n",
        "\n",
        "for categoricalCol in categoricalColumns:\n",
        "    # Category Indexing with StringIndexer\n",
        "    stringIndexer = StringIndexer(inputCol=categoricalCol, outputCol=categoricalCol + \"Index\")\n",
        "    # Use OneHotEncoder to convert categorical variables into binary SparseVectors\n",
        "    # encoder = OneHotEncoderEstimator(inputCol=categoricalCol + \"Index\", outputCol=categoricalCol + \"classVec\")\n",
        "    encoder = OneHotEncoder(inputCols=[stringIndexer.getOutputCol()], outputCols=[categoricalCol + \"classVec\"])\n",
        "    # Add stages.  These are not run here, but will run all at once later on.\n",
        "    stages += [stringIndexer, encoder]"
      ]
    },
    {
      "cell_type": "code",
      "execution_count": 26,
      "metadata": {
        "application/vnd.databricks.v1+cell": {
          "inputWidgets": {},
          "nuid": "f2657356-694c-4a30-80bd-02ede201a55c",
          "showTitle": false,
          "title": ""
        },
        "id": "p7LvBtvjOhHJ"
      },
      "outputs": [],
      "source": [
        "# Convert label into label indices using the StringIndexer\n",
        "label_stringIdx = StringIndexer(inputCol=\"income\", outputCol=\"label\")\n",
        "stages += [label_stringIdx]"
      ]
    },
    {
      "cell_type": "code",
      "execution_count": 27,
      "metadata": {
        "application/vnd.databricks.v1+cell": {
          "inputWidgets": {},
          "nuid": "5a2fa539-5109-4b69-bc89-e7a7439a1469",
          "showTitle": false,
          "title": ""
        },
        "id": "wGHHjqYcOhHJ"
      },
      "outputs": [],
      "source": [
        "# Transform all features into a vector using VectorAssembler\n",
        "numericCols = [\"age\", \"fnlwgt\", \"education_num\", \"capital_gain\", \"capital_loss\", \"hours_per_week\"]\n",
        "assemblerInputs = [c + \"classVec\" for c in categoricalColumns] + numericCols\n",
        "assembler = VectorAssembler(inputCols=assemblerInputs, outputCol=\"features\")\n",
        "stages += [assembler]"
      ]
    },
    {
      "cell_type": "code",
      "execution_count": 28,
      "metadata": {
        "application/vnd.databricks.v1+cell": {
          "inputWidgets": {},
          "nuid": "c96a56cc-57f4-4c4b-856e-f2e5701e95fe",
          "showTitle": false,
          "title": ""
        },
        "colab": {
          "base_uri": "https://localhost:8080/"
        },
        "id": "rhnO6VC-OhHJ",
        "outputId": "31c62728-11e2-415f-bfe9-da131c9dbd74"
      },
      "outputs": [
        {
          "output_type": "stream",
          "name": "stdout",
          "text": [
            "+-----+--------------------+---+----------------+------+------------+-------------+--------------------+-----------------+-------------+------------------+------+------------+------------+--------------+--------------+------+\n",
            "|label|            features|age|       workclass|fnlwgt|   education|education_num|      marital_status|       occupation| relationship|              race|   sex|capital_gain|capital_loss|hours_per_week|native_country|income|\n",
            "+-----+--------------------+---+----------------+------+------------+-------------+--------------------+-----------------+-------------+------------------+------+------------+------------+--------------+--------------+------+\n",
            "|  0.0|(96,[3,8,22,30,41...| 39|       State-gov| 77516|   Bachelors|           13|       Never-married|     Adm-clerical|Not-in-family|             White|  Male|        2174|           0|            40| United-States| <=50K|\n",
            "|  0.0|(96,[1,8,21,29,40...| 50|Self-emp-not-inc| 83311|   Bachelors|           13|  Married-civ-spouse|  Exec-managerial|      Husband|             White|  Male|           0|           0|            13| United-States| <=50K|\n",
            "|  0.0|(96,[0,6,23,35,41...| 38|         Private|215646|     HS-grad|            9|            Divorced|Handlers-cleaners|Not-in-family|             White|  Male|           0|           0|            40| United-States| <=50K|\n",
            "|  0.0|(96,[0,11,21,35,4...| 53|         Private|234721|        11th|            7|  Married-civ-spouse|Handlers-cleaners|      Husband|             Black|  Male|           0|           0|            40| United-States| <=50K|\n",
            "|  0.0|(96,[0,8,21,27,44...| 28|         Private|338409|   Bachelors|           13|  Married-civ-spouse|   Prof-specialty|         Wife|             Black|Female|           0|           0|            40|          Cuba| <=50K|\n",
            "|  0.0|(96,[0,9,21,29,44...| 37|         Private|284582|     Masters|           14|  Married-civ-spouse|  Exec-managerial|         Wife|             White|Female|           0|           0|            40| United-States| <=50K|\n",
            "|  0.0|(96,[0,16,26,32,4...| 49|         Private|160187|         9th|            5|Married-spouse-ab...|    Other-service|Not-in-family|             Black|Female|           0|           0|            16|       Jamaica| <=50K|\n",
            "|  1.0|(96,[1,6,21,29,40...| 52|Self-emp-not-inc|209642|     HS-grad|            9|  Married-civ-spouse|  Exec-managerial|      Husband|             White|  Male|           0|           0|            45| United-States|  >50K|\n",
            "|  1.0|(96,[0,9,22,27,41...| 31|         Private| 45781|     Masters|           14|       Never-married|   Prof-specialty|Not-in-family|             White|Female|       14084|           0|            50| United-States|  >50K|\n",
            "|  1.0|(96,[0,8,21,29,40...| 42|         Private|159449|   Bachelors|           13|  Married-civ-spouse|  Exec-managerial|      Husband|             White|  Male|        5178|           0|            40| United-States|  >50K|\n",
            "|  1.0|(96,[0,7,21,29,40...| 37|         Private|280464|Some-college|           10|  Married-civ-spouse|  Exec-managerial|      Husband|             Black|  Male|           0|           0|            80| United-States|  >50K|\n",
            "|  1.0|(96,[3,8,21,27,40...| 30|       State-gov|141297|   Bachelors|           13|  Married-civ-spouse|   Prof-specialty|      Husband|Asian-Pac-Islander|  Male|           0|           0|            40|         India|  >50K|\n",
            "|  0.0|(96,[0,8,22,30,42...| 23|         Private|122272|   Bachelors|           13|       Never-married|     Adm-clerical|    Own-child|             White|Female|           0|           0|            30| United-States| <=50K|\n",
            "|  0.0|(96,[0,12,22,31,4...| 32|         Private|205019|  Assoc-acdm|           12|       Never-married|            Sales|Not-in-family|             Black|  Male|           0|           0|            50| United-States| <=50K|\n",
            "|  0.0|(96,[0,14,21,34,4...| 34|         Private|245487|     7th-8th|            4|  Married-civ-spouse| Transport-moving|      Husband|Amer-Indian-Eskimo|  Male|           0|           0|            45|        Mexico| <=50K|\n",
            "|  0.0|(96,[1,6,22,36,42...| 25|Self-emp-not-inc|176756|     HS-grad|            9|       Never-married|  Farming-fishing|    Own-child|             White|  Male|           0|           0|            35| United-States| <=50K|\n",
            "|  0.0|(96,[0,6,22,33,43...| 32|         Private|186824|     HS-grad|            9|       Never-married|Machine-op-inspct|    Unmarried|             White|  Male|           0|           0|            40| United-States| <=50K|\n",
            "|  0.0|(96,[0,11,21,31,4...| 38|         Private| 28887|        11th|            7|  Married-civ-spouse|            Sales|      Husband|             White|  Male|           0|           0|            50| United-States| <=50K|\n",
            "|  1.0|(96,[1,9,23,29,43...| 43|Self-emp-not-inc|292175|     Masters|           14|            Divorced|  Exec-managerial|    Unmarried|             White|Female|           0|           0|            45| United-States|  >50K|\n",
            "|  1.0|(96,[0,18,21,27,4...| 40|         Private|193524|   Doctorate|           16|  Married-civ-spouse|   Prof-specialty|      Husband|             White|  Male|           0|           0|            60| United-States|  >50K|\n",
            "+-----+--------------------+---+----------------+------+------------+-------------+--------------------+-----------------+-------------+------------------+------+------------+------------+--------------+--------------+------+\n",
            "only showing top 20 rows\n",
            "\n"
          ]
        }
      ],
      "source": [
        "# Create a Pipeline.\n",
        "pipeline = Pipeline(stages=stages)\n",
        "# Run the feature transformations.\n",
        "#  - fit() computes feature statistics as needed.\n",
        "#  - transform() actually transforms the features.\n",
        "pipelineModel = pipeline.fit(df_adult)\n",
        "dataset = pipelineModel.transform(df_adult)\n",
        "# Keep relevant columns\n",
        "selectedcols = [\"label\", \"features\"] + cols\n",
        "dataset = dataset.select(selectedcols)\n",
        "dataset.show()"
      ]
    },
    {
      "cell_type": "code",
      "execution_count": 29,
      "metadata": {
        "application/vnd.databricks.v1+cell": {
          "inputWidgets": {},
          "nuid": "0a5e74a5-dff1-45a3-9155-b9944d95e9aa",
          "showTitle": false,
          "title": ""
        },
        "colab": {
          "base_uri": "https://localhost:8080/"
        },
        "id": "dzh0mEF9OhHJ",
        "outputId": "ea9497c5-5f2d-4332-a5b7-1900c2129850"
      },
      "outputs": [
        {
          "output_type": "stream",
          "name": "stdout",
          "text": [
            "21164\n",
            "8998\n"
          ]
        }
      ],
      "source": [
        "### Randomly split data into training and test sets. set seed for reproducibility\n",
        "(trainingData, testData) = dataset.randomSplit([0.7, 0.3], seed=100)\n",
        "print(trainingData.count())\n",
        "print(testData.count())"
      ]
    },
    {
      "cell_type": "code",
      "execution_count": 30,
      "metadata": {
        "application/vnd.databricks.v1+cell": {
          "inputWidgets": {},
          "nuid": "c8de9b08-6ff6-4b6a-b67f-a78f2db52ccf",
          "showTitle": false,
          "title": ""
        },
        "colab": {
          "base_uri": "https://localhost:8080/"
        },
        "id": "KkZAZVTgOhHJ",
        "outputId": "040cdd62-66b0-4517-a8ca-7629759e0f3b"
      },
      "outputs": [
        {
          "output_type": "stream",
          "name": "stdout",
          "text": [
            "Positive rate in the training data is 0.2512285012285012\n"
          ]
        }
      ],
      "source": [
        "from pyspark.sql.functions import avg\n",
        "\n",
        "# get the rate of the positive outcome from the training data to use as a threshold in the model\n",
        "training_data_positive_rate = trainingData.select(avg(trainingData['label'])).collect()[0][0]\n",
        "\n",
        "print(\"Positive rate in the training data is {}\".format(training_data_positive_rate))"
      ]
    },
    {
      "cell_type": "markdown",
      "metadata": {
        "application/vnd.databricks.v1+cell": {
          "inputWidgets": {},
          "nuid": "5fb85c94-76bc-42aa-82b4-d00e6369e6bc",
          "showTitle": false,
          "title": ""
        },
        "id": "kqGhhK0dOhHJ"
      },
      "source": [
        "#### Logistic Regression - Train"
      ]
    },
    {
      "cell_type": "code",
      "execution_count": 31,
      "metadata": {
        "application/vnd.databricks.v1+cell": {
          "inputWidgets": {},
          "nuid": "06e5691c-1522-4b7e-a914-57b1bfa7a3a5",
          "showTitle": false,
          "title": ""
        },
        "colab": {
          "base_uri": "https://localhost:8080/"
        },
        "id": "1Su79jw6OhHJ",
        "outputId": "c37314a0-a838-4376-8180-5562a0eec5f1"
      },
      "outputs": [
        {
          "output_type": "stream",
          "name": "stdout",
          "text": [
            "Best threshold based on model performance on training data is 0.3515650614074174\n"
          ]
        }
      ],
      "source": [
        "from pyspark.ml.classification import LogisticRegression\n",
        "\n",
        "# Create initial LogisticRegression model\n",
        "lr = LogisticRegression(labelCol=\"label\", featuresCol=\"features\", maxIter=10)\n",
        "\n",
        "# set threshold for the probability above which to predict a 1\n",
        "lr.setThreshold(training_data_positive_rate)\n",
        "# lr.setThreshold(0.5) # could use this if knew you had balanced data\n",
        "\n",
        "# Train model with Training Data\n",
        "lrModel = lr.fit(trainingData)\n",
        "\n",
        "# get training summary used for eval metrics and other params\n",
        "lrTrainingSummary = lrModel.summary\n",
        "\n",
        "# Find the best model threshold if you would like to use that instead of the empirical positve rate\n",
        "fMeasure = lrTrainingSummary.fMeasureByThreshold\n",
        "maxFMeasure = fMeasure.groupBy().max('F-Measure').select('max(F-Measure)').head()\n",
        "lrBestThreshold = fMeasure.where(fMeasure['F-Measure'] == maxFMeasure['max(F-Measure)']) \\\n",
        "    .select('threshold').head()['threshold']\n",
        "\n",
        "print(\"Best threshold based on model performance on training data is {}\".format(lrBestThreshold))"
      ]
    },
    {
      "cell_type": "markdown",
      "metadata": {
        "application/vnd.databricks.v1+cell": {
          "inputWidgets": {},
          "nuid": "50f512e9-7d60-427d-8f17-530e08639605",
          "showTitle": false,
          "title": ""
        },
        "id": "-OEYLmVwOhHU"
      },
      "source": [
        "#### GBM - Train"
      ]
    },
    {
      "cell_type": "markdown",
      "metadata": {
        "application/vnd.databricks.v1+cell": {
          "inputWidgets": {},
          "nuid": "e4b1128b-d223-4d3d-b202-5ad887e9cda3",
          "showTitle": false,
          "title": ""
        },
        "id": "T6KqvhJVOhHU"
      },
      "source": [
        "#### <span style=\"color:darkblue\">Question 3</span>\n",
        "1. Train a GBTClassifier on the training data, call the trained model 'gbModel'"
      ]
    },
    {
      "cell_type": "code",
      "execution_count": 33,
      "metadata": {
        "application/vnd.databricks.v1+cell": {
          "inputWidgets": {},
          "nuid": "998d8fa4-1162-4f46-bd6a-40d05beadf31",
          "showTitle": false,
          "title": ""
        },
        "id": "1nUt92fYOhHU"
      },
      "outputs": [],
      "source": [
        "### Question 3.1 Answer ###\n",
        "from pyspark.ml.classification import GBTClassifier\n",
        "\n",
        "# Create initial LogisticRegression model\n",
        "gb = GBTClassifier(labelCol=\"label\", featuresCol=\"features\", maxIter=10)\n",
        "\n",
        "\n",
        "# Train model with Training Data\n",
        "gbModel = gb.fit(trainingData)"
      ]
    },
    {
      "cell_type": "markdown",
      "metadata": {
        "application/vnd.databricks.v1+cell": {
          "inputWidgets": {},
          "nuid": "f52bee49-0815-4252-a35f-d6a9b8b52be2",
          "showTitle": false,
          "title": ""
        },
        "id": "D9RVhJFxOhHV"
      },
      "source": [
        "#### Logistic Regression - Predict"
      ]
    },
    {
      "cell_type": "code",
      "execution_count": 34,
      "metadata": {
        "application/vnd.databricks.v1+cell": {
          "inputWidgets": {},
          "nuid": "6cb54547-1466-46ac-81bc-a9ae5d32dc5c",
          "showTitle": false,
          "title": ""
        },
        "colab": {
          "base_uri": "https://localhost:8080/"
        },
        "id": "j2Fx9TDqOhHV",
        "outputId": "d1e144e6-8a13-4583-8c31-c0d6ea64e1e0"
      },
      "outputs": [
        {
          "output_type": "stream",
          "name": "stdout",
          "text": [
            "+-----+----------+--------------------+\n",
            "|label|prediction|         probability|\n",
            "+-----+----------+--------------------+\n",
            "|  0.0|       1.0|[0.68177981621866...|\n",
            "|  0.0|       1.0|[0.60025895777845...|\n",
            "|  0.0|       1.0|[0.60011279479637...|\n",
            "|  0.0|       1.0|[0.48071766669177...|\n",
            "|  0.0|       0.0|[0.89987230336118...|\n",
            "|  0.0|       1.0|[0.49965155795539...|\n",
            "|  0.0|       1.0|[0.69212053758225...|\n",
            "|  0.0|       1.0|[0.51905947154165...|\n",
            "|  0.0|       1.0|[0.42337951785897...|\n",
            "|  0.0|       1.0|[0.30263016389129...|\n",
            "|  0.0|       1.0|[0.50310280995159...|\n",
            "|  0.0|       0.0|[0.84341452792179...|\n",
            "|  0.0|       0.0|[0.84264550359952...|\n",
            "|  0.0|       0.0|[0.84327400751429...|\n",
            "|  0.0|       0.0|[0.83409652787033...|\n",
            "|  0.0|       0.0|[0.83040358535658...|\n",
            "|  0.0|       0.0|[0.82999718998703...|\n",
            "|  0.0|       0.0|[0.81742023679485...|\n",
            "|  0.0|       0.0|[0.76177869193480...|\n",
            "|  0.0|       0.0|[0.79376581277204...|\n",
            "+-----+----------+--------------------+\n",
            "only showing top 20 rows\n",
            "\n"
          ]
        }
      ],
      "source": [
        "# make predictions on test data\n",
        "lrPredictions = lrModel.transform(testData)\n",
        "\n",
        "# display predictions\n",
        "lrPredictions.select(\"label\", \"prediction\", \"probability\").show()"
      ]
    },
    {
      "cell_type": "markdown",
      "metadata": {
        "application/vnd.databricks.v1+cell": {
          "inputWidgets": {},
          "nuid": "c2b53bb9-d298-4af9-bdc8-fd94a5f0b388",
          "showTitle": false,
          "title": ""
        },
        "id": "9zATqRO5OhHV"
      },
      "source": [
        "### GBM - Predict"
      ]
    },
    {
      "cell_type": "markdown",
      "metadata": {
        "application/vnd.databricks.v1+cell": {
          "inputWidgets": {},
          "nuid": "5f2f8c8c-070a-466c-a315-d26562880c66",
          "showTitle": false,
          "title": ""
        },
        "id": "dGhbgep-OhHV"
      },
      "source": [
        "#### <span style=\"color:darkblue\">Question 4</span>\n",
        "1. Get predictions on the test data for your GBTClassifier. Call the predictions df 'gbPredictions'."
      ]
    },
    {
      "cell_type": "code",
      "execution_count": 35,
      "metadata": {
        "application/vnd.databricks.v1+cell": {
          "inputWidgets": {},
          "nuid": "88af5d4c-6bc4-45c0-a4d5-39656e5aea3a",
          "showTitle": false,
          "title": ""
        },
        "id": "ajQhqjFjOhHV",
        "outputId": "42ca5ed3-5797-4853-e2b9-749069d7f12d",
        "colab": {
          "base_uri": "https://localhost:8080/"
        }
      },
      "outputs": [
        {
          "output_type": "stream",
          "name": "stdout",
          "text": [
            "+-----+--------------------+---+---------+------+---------+-------------+------------------+--------------+------------+------------------+------+------------+------------+--------------+--------------+------+--------------------+--------------------+----------+\n",
            "|label|            features|age|workclass|fnlwgt|education|education_num|    marital_status|    occupation|relationship|              race|   sex|capital_gain|capital_loss|hours_per_week|native_country|income|       rawPrediction|         probability|prediction|\n",
            "+-----+--------------------+---+---------+------+---------+-------------+------------------+--------------+------------+------------------+------+------------+------------+--------------+--------------+------+--------------------+--------------------+----------+\n",
            "|  0.0|(96,[0,6,21,27,40...| 26|  Private| 58426|  HS-grad|            9|Married-civ-spouse|Prof-specialty|     Husband|             White|  Male|           0|           0|            50| United-States| <=50K|[0.68101877395423...|[0.79609065308092...|       0.0|\n",
            "|  0.0|(96,[0,6,21,27,40...| 51|  Private| 94432|  HS-grad|            9|Married-civ-spouse|Prof-specialty|     Husband|             White|  Male|           0|           0|            40| United-States| <=50K|[0.20981086892267...|[0.60339273151124...|       0.0|\n",
            "|  0.0|(96,[0,6,21,27,40...| 51|  Private| 95469|  HS-grad|            9|Married-civ-spouse|Prof-specialty|     Husband|             White|  Male|           0|           0|            40| United-States| <=50K|[0.20981086892267...|[0.60339273151124...|       0.0|\n",
            "|  0.0|(96,[0,6,21,27,40...| 63|  Private|133144|  HS-grad|            9|Married-civ-spouse|Prof-specialty|     Husband|             White|  Male|           0|           0|            45| United-States| <=50K|[0.11946388854960...|[0.55944939989493...|       0.0|\n",
            "|  0.0|(96,[0,6,21,27,40...| 45|  Private| 26781|  HS-grad|            9|Married-civ-spouse|Prof-specialty|     Husband|Amer-Indian-Eskimo|  Male|           0|           0|             8| United-States| <=50K|[0.33444553961265...|[0.66125480883707...|       0.0|\n",
            "|  0.0|(96,[0,6,21,27,44...| 59|  Private|172071|  HS-grad|            9|Married-civ-spouse|Prof-specialty|        Wife|             Black|Female|           0|           0|            38|       Jamaica| <=50K|[0.19291368784869...|[0.59527782269024...|       0.0|\n",
            "|  0.0|(96,[0,6,21,28,40...| 20|  Private| 34568|  HS-grad|            9|Married-civ-spouse|  Craft-repair|     Husband|             White|  Male|        3781|           0|            35| United-States| <=50K|[0.33832301440946...|[0.66298971516721...|       0.0|\n",
            "|  0.0|(96,[0,6,21,28,40...| 34|  Private| 36069|  HS-grad|            9|Married-civ-spouse|  Craft-repair|     Husband|             White|  Male|        3908|           0|            46| United-States| <=50K|[-0.0521324071314...|[0.47395738492850...|       1.0|\n",
            "|  0.0|(96,[0,6,21,28,40...| 56|  Private|286487|  HS-grad|            9|Married-civ-spouse|  Craft-repair|     Husband|             White|  Male|        2885|           0|            45| United-States| <=50K|[0.17365810670251...|[0.58596661672529...|       0.0|\n",
            "|  0.0|(96,[0,6,21,28,40...| 41|  Private|125831|  HS-grad|            9|Married-civ-spouse|  Craft-repair|     Husband|             White|  Male|           0|        2051|            60| United-States| <=50K|[-0.1501497525970...|[0.42548426828716...|       1.0|\n",
            "|  0.0|(96,[0,6,21,28,40...| 42|  Private|117319|  HS-grad|            9|Married-civ-spouse|  Craft-repair|     Husband|             White|  Male|           0|        1672|            40| United-States| <=50K|[0.42912478979497...|[0.70229481166934...|       0.0|\n",
            "|  0.0|(96,[0,6,21,28,40...| 19|  Private|187352|  HS-grad|            9|Married-civ-spouse|  Craft-repair|     Husband|             White|  Male|           0|           0|            40| United-States| <=50K|[0.80056584136875...|[0.83217649397997...|       0.0|\n",
            "|  0.0|(96,[0,6,21,28,40...| 21|  Private|109952|  HS-grad|            9|Married-civ-spouse|  Craft-repair|     Husband|             White|  Male|           0|           0|            40| United-States| <=50K|[0.80056584136875...|[0.83217649397997...|       0.0|\n",
            "|  0.0|(96,[0,6,21,28,40...| 22|  Private| 58222|  HS-grad|            9|Married-civ-spouse|  Craft-repair|     Husband|             White|  Male|           0|           0|            40| United-States| <=50K|[0.80056584136875...|[0.83217649397997...|       0.0|\n",
            "|  0.0|(96,[0,6,21,28,40...| 22|  Private|173736|  HS-grad|            9|Married-civ-spouse|  Craft-repair|     Husband|             White|  Male|           0|           0|            40| United-States| <=50K|[0.80056584136875...|[0.83217649397997...|       0.0|\n",
            "|  0.0|(96,[0,6,21,28,40...| 24|  Private|235894|  HS-grad|            9|Married-civ-spouse|  Craft-repair|     Husband|             White|  Male|           0|           0|            38| United-States| <=50K|[0.83430876930834...|[0.84139141611663...|       0.0|\n",
            "|  0.0|(96,[0,6,21,28,40...| 26|  Private| 49092|  HS-grad|            9|Married-civ-spouse|  Craft-repair|     Husband|             White|  Male|           0|           0|            40| United-States| <=50K|[0.74612577782834...|[0.81641597828170...|       0.0|\n",
            "|  0.0|(96,[0,6,21,28,40...| 27|  Private|152951|  HS-grad|            9|Married-civ-spouse|  Craft-repair|     Husband|             White|  Male|           0|           0|            40| United-States| <=50K|[0.74612577782834...|[0.81641597828170...|       0.0|\n",
            "|  0.0|(96,[0,6,21,28,40...| 27|  Private|203776|  HS-grad|            9|Married-civ-spouse|  Craft-repair|     Husband|             White|  Male|           0|           0|            50| United-States| <=50K|[0.72627326758769...|[0.81039003886757...|       0.0|\n",
            "|  0.0|(96,[0,6,21,28,40...| 27|  Private|410351|  HS-grad|            9|Married-civ-spouse|  Craft-repair|     Husband|             White|  Male|           0|           0|            40| United-States| <=50K|[0.74612577782834...|[0.81641597828170...|       0.0|\n",
            "+-----+--------------------+---+---------+------+---------+-------------+------------------+--------------+------------+------------------+------+------------+------------+--------------+--------------+------+--------------------+--------------------+----------+\n",
            "only showing top 20 rows\n",
            "\n"
          ]
        }
      ],
      "source": [
        "### Question 4.1 Answer ###\n",
        "\n",
        "# make predictions on test data\n",
        "gbPredictions = gbModel.transform(testData)\n",
        "\n",
        "gbPredictions.show()"
      ]
    },
    {
      "cell_type": "markdown",
      "metadata": {
        "application/vnd.databricks.v1+cell": {
          "inputWidgets": {},
          "nuid": "16eabc78-ad9f-4a58-a66d-b8bdc6669417",
          "showTitle": false,
          "title": ""
        },
        "id": "qolSJv3dOhHV"
      },
      "source": [
        "#### Logistic Regression - Evaluate"
      ]
    },
    {
      "cell_type": "markdown",
      "metadata": {
        "application/vnd.databricks.v1+cell": {
          "inputWidgets": {},
          "nuid": "f3194131-7989-4854-b39a-622c6ef6f2cd",
          "showTitle": false,
          "title": ""
        },
        "id": "4EtPeEG3OhHV"
      },
      "source": [
        "#### <span style=\"color:darkblue\">Question 5</span>\n",
        "1. Complete the print_performance_metrics() function below to also include measures of F1, Precision, Recall, False Positive Rate and True Positive Rate."
      ]
    },
    {
      "cell_type": "code",
      "execution_count": 40,
      "metadata": {
        "application/vnd.databricks.v1+cell": {
          "inputWidgets": {},
          "nuid": "e20e5588-1c65-428e-b125-9f2cb6ed8a0d",
          "showTitle": false,
          "title": ""
        },
        "id": "_GAQ40vSOhHV",
        "outputId": "cc1f233c-e2cc-46c9-8b14-2e43e710fca5",
        "colab": {
          "base_uri": "https://localhost:8080/"
        }
      },
      "outputs": [
        {
          "output_type": "stream",
          "name": "stdout",
          "text": [
            "auc = 0.9026230280706198\n",
            "aupr = 0.7579913878682295\n",
            "Area under PR = 0.548349153381663\n",
            "Area under ROC = 0.819538167042451\n",
            "Accuracy = 0.8098466325850189\n",
            "DenseMatrix([[5450., 1357.],\n",
            "             [ 354., 1837.]])\n",
            "F1 = 0.6822655524605387\n",
            "Precision = 0.5751408891671885\n",
            "Recall = 0.8384299406663623\n",
            "FPR = 0.19935360658146026\n",
            "TPR = 0.8384299406663623\n"
          ]
        }
      ],
      "source": [
        "from pyspark.ml.evaluation import BinaryClassificationEvaluator\n",
        "from pyspark.mllib.evaluation import BinaryClassificationMetrics, MulticlassMetrics\n",
        "\n",
        "def print_performance_metrics(predictions):\n",
        "  # Evaluate model\n",
        "  evaluator = BinaryClassificationEvaluator(rawPredictionCol=\"rawPrediction\")\n",
        "  auc = evaluator.evaluate(predictions, {evaluator.metricName: \"areaUnderROC\"})\n",
        "  aupr = evaluator.evaluate(predictions, {evaluator.metricName: \"areaUnderPR\"})\n",
        "  print(\"auc = {}\".format(auc))\n",
        "  print(\"aupr = {}\".format(aupr))\n",
        "\n",
        "  # get rdd of predictions and labels for mllib eval metrics\n",
        "  predictionAndLabels = predictions.select(\"prediction\",\"label\").rdd\n",
        "\n",
        "  # Instantiate metrics objects\n",
        "  binary_metrics = BinaryClassificationMetrics(predictionAndLabels)\n",
        "  multi_metrics = MulticlassMetrics(predictionAndLabels)\n",
        "\n",
        "  # Area under precision-recall curve\n",
        "  print(\"Area under PR = {}\".format(binary_metrics.areaUnderPR))\n",
        "  # Area under ROC curve\n",
        "  print(\"Area under ROC = {}\".format(binary_metrics.areaUnderROC))\n",
        "  # Accuracy\n",
        "  print(\"Accuracy = {}\".format(multi_metrics.accuracy))\n",
        "  # Confusion Matrix\n",
        "  print(multi_metrics.confusionMatrix())\n",
        "\n",
        "  ### Question 5.1 Answer ###\n",
        "\n",
        "  # F1\n",
        "  print(\"F1 = {}\".format(multi_metrics.fMeasure(1.0)))\n",
        "  # Precision\n",
        "  print(\"Precision = {}\".format(multi_metrics.precision(1.0)))\n",
        "  # Recall\n",
        "  print(\"Recall = {}\".format(multi_metrics.recall(1.0)))\n",
        "  # FPR\n",
        "  print(\"FPR = {}\".format(multi_metrics.falsePositiveRate(1.0)))\n",
        "  # TPR\n",
        "  print(\"TPR = {}\".format(multi_metrics.truePositiveRate(1.0)))\n",
        "\n",
        "\n",
        "print_performance_metrics(lrPredictions)"
      ]
    },
    {
      "cell_type": "markdown",
      "metadata": {
        "application/vnd.databricks.v1+cell": {
          "inputWidgets": {},
          "nuid": "21aa0bfe-9510-470d-9692-7c252c9bc58f",
          "showTitle": false,
          "title": ""
        },
        "id": "kaDztHZXOhHV"
      },
      "source": [
        "#### GBM - Evaluate"
      ]
    },
    {
      "cell_type": "code",
      "execution_count": 41,
      "metadata": {
        "application/vnd.databricks.v1+cell": {
          "inputWidgets": {},
          "nuid": "111e82b8-8470-42d0-9485-5fdb59912e56",
          "showTitle": false,
          "title": ""
        },
        "id": "wwegtB7aOhHV",
        "outputId": "f37be5d5-96f8-47e2-cd56-c361f90697fd",
        "colab": {
          "base_uri": "https://localhost:8080/"
        }
      },
      "outputs": [
        {
          "output_type": "stream",
          "name": "stdout",
          "text": [
            "auc = 0.9045193161360927\n",
            "aupr = 0.7731494597781734\n",
            "Area under PR = 0.6483171436303964\n",
            "Area under ROC = 0.7530252001842279\n",
            "Accuracy = 0.8506334741053567\n",
            "DenseMatrix([[6421.,  386.],\n",
            "             [ 958., 1233.]])\n",
            "F1 = 0.647244094488189\n",
            "Precision = 0.7615812229771464\n",
            "Recall = 0.5627567320858056\n",
            "FPR = 0.05670633171734979\n",
            "TPR = 0.5627567320858056\n"
          ]
        }
      ],
      "source": [
        "print_performance_metrics(gbPredictions)"
      ]
    },
    {
      "cell_type": "markdown",
      "metadata": {
        "application/vnd.databricks.v1+cell": {
          "inputWidgets": {},
          "nuid": "c9d7ac8b-69d9-47d4-9412-9342faad7c05",
          "showTitle": false,
          "title": ""
        },
        "id": "qU2qwawbOhHV"
      },
      "source": [
        "## Cross Validation"
      ]
    },
    {
      "cell_type": "markdown",
      "metadata": {
        "application/vnd.databricks.v1+cell": {
          "inputWidgets": {},
          "nuid": "766d216e-da4c-4d99-8693-44c74ef75370",
          "showTitle": false,
          "title": ""
        },
        "id": "XK-l_CWYOhHV"
      },
      "source": [
        "For each model you can run the below comand to see its params and a brief explanation of each."
      ]
    },
    {
      "cell_type": "code",
      "execution_count": 42,
      "metadata": {
        "application/vnd.databricks.v1+cell": {
          "inputWidgets": {},
          "nuid": "dcfef6fc-f469-4556-bebc-9ed17b605b8f",
          "showTitle": false,
          "title": ""
        },
        "colab": {
          "base_uri": "https://localhost:8080/"
        },
        "id": "H0KoAfE-OhHV",
        "outputId": "05ee2898-8580-4f6f-95d4-e4560465802f"
      },
      "outputs": [
        {
          "output_type": "stream",
          "name": "stdout",
          "text": [
            "aggregationDepth: suggested depth for treeAggregate (>= 2). (default: 2)\n",
            "elasticNetParam: the ElasticNet mixing parameter, in range [0, 1]. For alpha = 0, the penalty is an L2 penalty. For alpha = 1, it is an L1 penalty. (default: 0.0)\n",
            "family: The name of family which is a description of the label distribution to be used in the model. Supported options: auto, binomial, multinomial (default: auto)\n",
            "featuresCol: features column name. (default: features, current: features)\n",
            "fitIntercept: whether to fit an intercept term. (default: True)\n",
            "labelCol: label column name. (default: label, current: label)\n",
            "lowerBoundsOnCoefficients: The lower bounds on coefficients if fitting under bound constrained optimization. The bound matrix must be compatible with the shape (1, number of features) for binomial regression, or (number of classes, number of features) for multinomial regression. (undefined)\n",
            "lowerBoundsOnIntercepts: The lower bounds on intercepts if fitting under bound constrained optimization. The bounds vector size must beequal with 1 for binomial regression, or the number oflasses for multinomial regression. (undefined)\n",
            "maxBlockSizeInMB: maximum memory in MB for stacking input data into blocks. Data is stacked within partitions. If more than remaining data size in a partition then it is adjusted to the data size. Default 0.0 represents choosing optimal value, depends on specific algorithm. Must be >= 0. (default: 0.0)\n",
            "maxIter: max number of iterations (>= 0). (default: 100, current: 10)\n",
            "predictionCol: prediction column name. (default: prediction)\n",
            "probabilityCol: Column name for predicted class conditional probabilities. Note: Not all models output well-calibrated probability estimates! These probabilities should be treated as confidences, not precise probabilities. (default: probability)\n",
            "rawPredictionCol: raw prediction (a.k.a. confidence) column name. (default: rawPrediction)\n",
            "regParam: regularization parameter (>= 0). (default: 0.0)\n",
            "standardization: whether to standardize the training features before fitting the model. (default: True)\n",
            "threshold: Threshold in binary classification prediction, in range [0, 1]. If threshold and thresholds are both set, they must match.e.g. if threshold is p, then thresholds must be equal to [1-p, p]. (default: 0.5, current: 0.2512285012285012)\n",
            "thresholds: Thresholds in multi-class classification to adjust the probability of predicting each class. Array must have length equal to the number of classes, with values > 0, excepting that at most one value may be 0. The class with largest value p/t is predicted, where p is the original probability of that class and t is the class's threshold. (undefined)\n",
            "tol: the convergence tolerance for iterative algorithms (>= 0). (default: 1e-06)\n",
            "upperBoundsOnCoefficients: The upper bounds on coefficients if fitting under bound constrained optimization. The bound matrix must be compatible with the shape (1, number of features) for binomial regression, or (number of classes, number of features) for multinomial regression. (undefined)\n",
            "upperBoundsOnIntercepts: The upper bounds on intercepts if fitting under bound constrained optimization. The bound vector size must be equal with 1 for binomial regression, or the number of classes for multinomial regression. (undefined)\n",
            "weightCol: weight column name. If this is not set or empty, we treat all instance weights as 1.0. (undefined)\n"
          ]
        }
      ],
      "source": [
        "print(lr.explainParams())"
      ]
    },
    {
      "cell_type": "code",
      "execution_count": 43,
      "metadata": {
        "application/vnd.databricks.v1+cell": {
          "inputWidgets": {},
          "nuid": "077280d3-39ad-4b29-b97e-ca45993c7527",
          "showTitle": false,
          "title": ""
        },
        "id": "aB58DaNOOhHV",
        "outputId": "53bfa044-bbc1-4367-c382-f63c6b89c3ed",
        "colab": {
          "base_uri": "https://localhost:8080/"
        }
      },
      "outputs": [
        {
          "output_type": "stream",
          "name": "stdout",
          "text": [
            "cacheNodeIds: If false, the algorithm will pass trees to executors to match instances with nodes. If true, the algorithm will cache node IDs for each instance. Caching can speed up training of deeper trees. Users can set how often should the cache be checkpointed or disable it by setting checkpointInterval. (default: False)\n",
            "checkpointInterval: set checkpoint interval (>= 1) or disable checkpoint (-1). E.g. 10 means that the cache will get checkpointed every 10 iterations. Note: this setting will be ignored if the checkpoint directory is not set in the SparkContext. (default: 10)\n",
            "featureSubsetStrategy: The number of features to consider for splits at each tree node. Supported options: 'auto' (choose automatically for task: If numTrees == 1, set to 'all'. If numTrees > 1 (forest), set to 'sqrt' for classification and to 'onethird' for regression), 'all' (use all features), 'onethird' (use 1/3 of the features), 'sqrt' (use sqrt(number of features)), 'log2' (use log2(number of features)), 'n' (when n is in the range (0, 1.0], use n * number of features. When n is in the range (1, number of features), use n features). default = 'auto' (default: all)\n",
            "featuresCol: features column name. (default: features, current: features)\n",
            "impurity: Criterion used for information gain calculation (case-insensitive). Supported options: variance (default: variance)\n",
            "labelCol: label column name. (default: label, current: label)\n",
            "leafCol: Leaf indices column name. Predicted leaf index of each instance in each tree by preorder. (default: )\n",
            "lossType: Loss function which GBT tries to minimize (case-insensitive). Supported options: logistic (default: logistic)\n",
            "maxBins: Max number of bins for discretizing continuous features.  Must be >=2 and >= number of categories for any categorical feature. (default: 32)\n",
            "maxDepth: Maximum depth of the tree. (>= 0) E.g., depth 0 means 1 leaf node; depth 1 means 1 internal node + 2 leaf nodes. Must be in range [0, 30]. (default: 5)\n",
            "maxIter: max number of iterations (>= 0). (default: 20, current: 10)\n",
            "maxMemoryInMB: Maximum memory in MB allocated to histogram aggregation. If too small, then 1 node will be split per iteration, and its aggregates may exceed this size. (default: 256)\n",
            "minInfoGain: Minimum information gain for a split to be considered at a tree node. (default: 0.0)\n",
            "minInstancesPerNode: Minimum number of instances each child must have after split. If a split causes the left or right child to have fewer than minInstancesPerNode, the split will be discarded as invalid. Should be >= 1. (default: 1)\n",
            "minWeightFractionPerNode: Minimum fraction of the weighted sample count that each child must have after split. If a split causes the fraction of the total weight in the left or right child to be less than minWeightFractionPerNode, the split will be discarded as invalid. Should be in interval [0.0, 0.5). (default: 0.0)\n",
            "predictionCol: prediction column name. (default: prediction)\n",
            "probabilityCol: Column name for predicted class conditional probabilities. Note: Not all models output well-calibrated probability estimates! These probabilities should be treated as confidences, not precise probabilities. (default: probability)\n",
            "rawPredictionCol: raw prediction (a.k.a. confidence) column name. (default: rawPrediction)\n",
            "seed: random seed. (default: -7493573445463780567)\n",
            "stepSize: Step size (a.k.a. learning rate) in interval (0, 1] for shrinking the contribution of each estimator. (default: 0.1)\n",
            "subsamplingRate: Fraction of the training data used for learning each decision tree, in range (0, 1]. (default: 1.0)\n",
            "thresholds: Thresholds in multi-class classification to adjust the probability of predicting each class. Array must have length equal to the number of classes, with values > 0, excepting that at most one value may be 0. The class with largest value p/t is predicted, where p is the original probability of that class and t is the class's threshold. (undefined)\n",
            "validationIndicatorCol: name of the column that indicates whether each row is for training or for validation. False indicates training; true indicates validation. (undefined)\n",
            "validationTol: Threshold for stopping early when fit with validation is used. If the error rate on the validation input changes by less than the validationTol, then learning will stop early (before `maxIter`). This parameter is ignored when fit without validation is used. (default: 0.01)\n",
            "weightCol: weight column name. If this is not set or empty, we treat all instance weights as 1.0. (undefined)\n"
          ]
        }
      ],
      "source": [
        "print(gb.explainParams())"
      ]
    },
    {
      "cell_type": "markdown",
      "metadata": {
        "application/vnd.databricks.v1+cell": {
          "inputWidgets": {},
          "nuid": "5daa3f89-6335-47e0-96e6-b1e0c43a3aea",
          "showTitle": false,
          "title": ""
        },
        "id": "hyHJ08QJOhHV"
      },
      "source": [
        "#### Logisitic Regression - Param Grid"
      ]
    },
    {
      "cell_type": "code",
      "execution_count": 44,
      "metadata": {
        "application/vnd.databricks.v1+cell": {
          "inputWidgets": {},
          "nuid": "0d0ad441-c23a-484b-81e4-14b7fbf0b27e",
          "showTitle": false,
          "title": ""
        },
        "id": "22JrgPAbOhHW"
      },
      "outputs": [],
      "source": [
        "from pyspark.ml.tuning import ParamGridBuilder, CrossValidator\n",
        "\n",
        "# Create ParamGrid for Cross Validation\n",
        "lrParamGrid = (ParamGridBuilder()\n",
        "             .addGrid(lr.regParam, [0.01, 0.5, 2.0])\n",
        "             .addGrid(lr.elasticNetParam, [0.0, 0.5, 1.0])\n",
        "             .addGrid(lr.maxIter, [2, 5])\n",
        "             .build())"
      ]
    },
    {
      "cell_type": "markdown",
      "metadata": {
        "application/vnd.databricks.v1+cell": {
          "inputWidgets": {},
          "nuid": "b72cc844-4efe-498a-aff0-18403c629de6",
          "showTitle": false,
          "title": ""
        },
        "id": "meovwY1kOhHW"
      },
      "source": [
        "#### GBM - Param Grid"
      ]
    },
    {
      "cell_type": "markdown",
      "metadata": {
        "application/vnd.databricks.v1+cell": {
          "inputWidgets": {},
          "nuid": "47696aef-d15e-4885-94aa-e263c7a56121",
          "showTitle": false,
          "title": ""
        },
        "id": "p6JR-IgtOhHW"
      },
      "source": [
        "#### <span style=\"color:darkblue\">Question 6</span>\n",
        "1. Build out a param grid for the gb model, call it 'gbParamGrid'."
      ]
    },
    {
      "cell_type": "code",
      "execution_count": 46,
      "metadata": {
        "application/vnd.databricks.v1+cell": {
          "inputWidgets": {},
          "nuid": "34b95f49-81f1-4edc-949d-e453c6214d22",
          "showTitle": false,
          "title": ""
        },
        "id": "aVObDX9_OhHW"
      },
      "outputs": [],
      "source": [
        "### Question 6.1 Answer ###\n",
        "\n",
        "# Create ParamGrid for Cross Validation\n",
        "\n",
        "gbParamGrid = (ParamGridBuilder()\n",
        "    .addGrid(gb.maxDepth, [3, 5, 7])\n",
        "    .addGrid(gb.maxBins, [32, 64])\n",
        "    .addGrid(gb.maxIter, [50, 100])\n",
        "    .addGrid(gb.stepSize, [0.05, 0.1, 0.2])\n",
        "    .addGrid(gb.subsamplingRate, [1.0, 0.8])\n",
        "    .build())\n"
      ]
    },
    {
      "cell_type": "markdown",
      "metadata": {
        "application/vnd.databricks.v1+cell": {
          "inputWidgets": {},
          "nuid": "cb7eecc2-5510-4563-8fc1-ec0f8efa7ecd",
          "showTitle": false,
          "title": ""
        },
        "id": "lmCsUUr_OhHW"
      },
      "source": [
        "#### Logistic Regression - Perform Cross Validation"
      ]
    },
    {
      "cell_type": "code",
      "execution_count": 47,
      "metadata": {
        "application/vnd.databricks.v1+cell": {
          "inputWidgets": {},
          "nuid": "9d2856c2-cec9-43e5-8b42-61f93429b97f",
          "showTitle": false,
          "title": ""
        },
        "id": "9uoCe7qqOhHW"
      },
      "outputs": [],
      "source": [
        "from pyspark.ml.evaluation import BinaryClassificationEvaluator\n",
        "from pyspark.mllib.evaluation import BinaryClassificationMetrics, MulticlassMetrics\n",
        "\n",
        "# set up an evaluator\n",
        "evaluator = BinaryClassificationEvaluator(rawPredictionCol=\"rawPrediction\")\n",
        "\n",
        "# Create CrossValidator\n",
        "lrCv = CrossValidator(estimator=lr, estimatorParamMaps=lrParamGrid, evaluator=evaluator, numFolds=2)\n",
        "\n",
        "# Run cross validations\n",
        "lrCvModel = lrCv.fit(trainingData)\n",
        "# this will likely take a fair amount of time because of the amount of models that we're creating and testing"
      ]
    },
    {
      "cell_type": "code",
      "execution_count": 48,
      "metadata": {
        "application/vnd.databricks.v1+cell": {
          "inputWidgets": {},
          "nuid": "919f51ca-6b9d-43ac-a32b-16bf811f3a0d",
          "showTitle": false,
          "title": ""
        },
        "colab": {
          "base_uri": "https://localhost:8080/"
        },
        "id": "tyrY3FBdOhHW",
        "outputId": "c025172b-fe1e-4a3b-845f-6920056ea42d"
      },
      "outputs": [
        {
          "output_type": "stream",
          "name": "stdout",
          "text": [
            "0.01\n",
            "0.0\n",
            "5\n"
          ]
        }
      ],
      "source": [
        "# below approach to getting at the best params from the best cv model taken from:\n",
        "# https://stackoverflow.com/a/46353730/1919374\n",
        "\n",
        "# look at best params from the CV\n",
        "print(lrCvModel.bestModel._java_obj.getRegParam())\n",
        "print(lrCvModel.bestModel._java_obj.getElasticNetParam())\n",
        "print(lrCvModel.bestModel._java_obj.getMaxIter())"
      ]
    },
    {
      "cell_type": "markdown",
      "metadata": {
        "application/vnd.databricks.v1+cell": {
          "inputWidgets": {},
          "nuid": "ea6bd5d5-df8c-4eaa-aa24-7dcc2e7627cc",
          "showTitle": false,
          "title": ""
        },
        "id": "wkRvnEZAOhHW"
      },
      "source": [
        "#### GBM - Perform Cross Validation"
      ]
    },
    {
      "cell_type": "markdown",
      "metadata": {
        "application/vnd.databricks.v1+cell": {
          "inputWidgets": {},
          "nuid": "fb2030b9-f96b-4402-b6cf-ab05effc3944",
          "showTitle": false,
          "title": ""
        },
        "id": "HRIbFcdEOhHW"
      },
      "source": [
        "#### <span style=\"color:darkblue\">Question 7</span>\n",
        "1. Perform cross validation of params on your 'gb' model.\n",
        "1. Print out the best params you found."
      ]
    },
    {
      "cell_type": "code",
      "execution_count": 49,
      "metadata": {
        "application/vnd.databricks.v1+cell": {
          "inputWidgets": {},
          "nuid": "98a9e5e6-449d-4f6e-8fee-3fc3e1e56c2f",
          "showTitle": false,
          "title": ""
        },
        "id": "6DNPyUl8OhHW"
      },
      "outputs": [],
      "source": [
        "### Question 7.1 Answer ###\n",
        "\n",
        "# Create CrossValidator\n",
        "gbCv = CrossValidator(estimator=gb, estimatorParamMaps=gbParamGrid, evaluator=evaluator, numFolds=2)\n",
        "\n",
        "# Run cross validations\n",
        "gbCvModel = gbCv.fit(trainingData)"
      ]
    },
    {
      "cell_type": "code",
      "execution_count": 52,
      "metadata": {
        "application/vnd.databricks.v1+cell": {
          "inputWidgets": {},
          "nuid": "60e1eff8-e84e-4a8b-bab1-3b5ce2e5e9f4",
          "showTitle": false,
          "title": ""
        },
        "id": "DrUyhU5LOhHW",
        "outputId": "6d44f31c-135d-4d7b-e0aa-c3d1b741f213",
        "colab": {
          "base_uri": "https://localhost:8080/"
        }
      },
      "outputs": [
        {
          "output_type": "stream",
          "name": "stdout",
          "text": [
            "3\n",
            "64\n",
            "100\n",
            "0.2\n",
            "1.0\n"
          ]
        }
      ],
      "source": [
        "### Question 7.2 Answer ###\n",
        "\n",
        "# look at best params from the CV\n",
        "print(gbCvModel.bestModel._java_obj.getMaxDepth())\n",
        "print(gbCvModel.bestModel._java_obj.getMaxBins())\n",
        "print(gbCvModel.bestModel._java_obj.getMaxIter())\n",
        "print(gbCvModel.bestModel._java_obj.getStepSize())\n",
        "print(gbCvModel.bestModel._java_obj.getSubsamplingRate())"
      ]
    },
    {
      "cell_type": "markdown",
      "metadata": {
        "application/vnd.databricks.v1+cell": {
          "inputWidgets": {},
          "nuid": "efd7e902-4c5c-48ca-8dfc-93a8ca1192e0",
          "showTitle": false,
          "title": ""
        },
        "id": "KMuEADRmOhHW"
      },
      "source": [
        "#### Logistic Regression - CV Model Predict"
      ]
    },
    {
      "cell_type": "code",
      "execution_count": 53,
      "metadata": {
        "application/vnd.databricks.v1+cell": {
          "inputWidgets": {},
          "nuid": "402209de-a5da-4195-ac8a-fe20fb1c9b87",
          "showTitle": false,
          "title": ""
        },
        "colab": {
          "base_uri": "https://localhost:8080/"
        },
        "id": "-ZxgV4XCOhHW",
        "outputId": "fd65bb8b-fb83-4f82-ab92-9ddbdf456a5d"
      },
      "outputs": [
        {
          "output_type": "stream",
          "name": "stdout",
          "text": [
            "+-----+--------------------+---+---------+------+---------+-------------+------------------+--------------+------------+------------------+------+------------+------------+--------------+--------------+------+--------------------+--------------------+----------+\n",
            "|label|            features|age|workclass|fnlwgt|education|education_num|    marital_status|    occupation|relationship|              race|   sex|capital_gain|capital_loss|hours_per_week|native_country|income|       rawPrediction|         probability|prediction|\n",
            "+-----+--------------------+---+---------+------+---------+-------------+------------------+--------------+------------+------------------+------+------------+------------+--------------+--------------+------+--------------------+--------------------+----------+\n",
            "|  0.0|(96,[0,6,21,27,40...| 26|  Private| 58426|  HS-grad|            9|Married-civ-spouse|Prof-specialty|     Husband|             White|  Male|           0|           0|            50| United-States| <=50K|[0.74356458113350...|[0.67777483969033...|       1.0|\n",
            "|  0.0|(96,[0,6,21,27,40...| 51|  Private| 94432|  HS-grad|            9|Married-civ-spouse|Prof-specialty|     Husband|             White|  Male|           0|           0|            40| United-States| <=50K|[0.42627110074322...|[0.60498289108083...|       1.0|\n",
            "|  0.0|(96,[0,6,21,27,40...| 51|  Private| 95469|  HS-grad|            9|Married-civ-spouse|Prof-specialty|     Husband|             White|  Male|           0|           0|            40| United-States| <=50K|[0.42576991160324...|[0.60486311130568...|       1.0|\n",
            "|  0.0|(96,[0,6,21,27,40...| 63|  Private|133144|  HS-grad|            9|Married-civ-spouse|Prof-specialty|     Husband|             White|  Male|           0|           0|            45| United-States| <=50K|[0.01124356285246...|[0.50281086110129...|       1.0|\n",
            "|  0.0|(96,[0,6,21,27,40...| 45|  Private| 26781|  HS-grad|            9|Married-civ-spouse|Prof-specialty|     Husband|Amer-Indian-Eskimo|  Male|           0|           0|             8| United-States| <=50K|[1.90372222064547...|[0.87031222781867...|       0.0|\n",
            "|  0.0|(96,[0,6,21,27,44...| 59|  Private|172071|  HS-grad|            9|Married-civ-spouse|Prof-specialty|        Wife|             Black|Female|           0|           0|            38|       Jamaica| <=50K|[0.34876184009210...|[0.58631729619916...|       1.0|\n",
            "|  0.0|(96,[0,6,21,28,40...| 20|  Private| 34568|  HS-grad|            9|Married-civ-spouse|  Craft-repair|     Husband|             White|  Male|        3781|           0|            35| United-States| <=50K|[1.32901516638425...|[0.79067768509911...|       0.0|\n",
            "|  0.0|(96,[0,6,21,28,40...| 34|  Private| 36069|  HS-grad|            9|Married-civ-spouse|  Craft-repair|     Husband|             White|  Male|        3908|           0|            46| United-States| <=50K|[0.72032275610175...|[0.67267808620193...|       1.0|\n",
            "|  0.0|(96,[0,6,21,28,40...| 56|  Private|286487|  HS-grad|            9|Married-civ-spouse|  Craft-repair|     Husband|             White|  Male|        2885|           0|            45| United-States| <=50K|[0.23556807246043...|[0.55862118306531...|       1.0|\n",
            "|  0.0|(96,[0,6,21,28,40...| 41|  Private|125831|  HS-grad|            9|Married-civ-spouse|  Craft-repair|     Husband|             White|  Male|           0|        2051|            60| United-States| <=50K|[-0.5343677157704...|[0.36949876508558...|       1.0|\n",
            "|  0.0|(96,[0,6,21,28,40...| 42|  Private|117319|  HS-grad|            9|Married-civ-spouse|  Craft-repair|     Husband|             White|  Male|           0|        1672|            40| United-States| <=50K|[0.16219188060971...|[0.54045931475873...|       1.0|\n",
            "|  0.0|(96,[0,6,21,28,40...| 19|  Private|187352|  HS-grad|            9|Married-civ-spouse|  Craft-repair|     Husband|             White|  Male|           0|           0|            40| United-States| <=50K|[1.52216917464454...|[0.82085768051769...|       0.0|\n",
            "|  0.0|(96,[0,6,21,28,40...| 21|  Private|109952|  HS-grad|            9|Married-civ-spouse|  Craft-repair|     Husband|             White|  Male|           0|           0|            40| United-States| <=50K|[1.51498417858195...|[0.81979868753468...|       0.0|\n",
            "|  0.0|(96,[0,6,21,28,40...| 22|  Private| 58222|  HS-grad|            9|Married-civ-spouse|  Craft-repair|     Husband|             White|  Male|           0|           0|            40| United-States| <=50K|[1.51768916800861...|[0.82019794675175...|       0.0|\n",
            "|  0.0|(96,[0,6,21,28,40...| 22|  Private|173736|  HS-grad|            9|Married-civ-spouse|  Craft-repair|     Husband|             White|  Male|           0|           0|            40| United-States| <=50K|[1.46186046760812...|[0.81181706354300...|       0.0|\n",
            "|  0.0|(96,[0,6,21,28,40...| 24|  Private|235894|  HS-grad|            9|Married-civ-spouse|  Craft-repair|     Husband|             White|  Male|           0|           0|            38| United-States| <=50K|[1.43873018927240...|[0.80825793695137...|       0.0|\n",
            "|  0.0|(96,[0,6,21,28,40...| 26|  Private| 49092|  HS-grad|            9|Married-civ-spouse|  Craft-repair|     Husband|             White|  Male|           0|           0|            40| United-States| <=50K|[1.43291587596014...|[0.80735523648517...|       0.0|\n",
            "|  0.0|(96,[0,6,21,28,40...| 27|  Private|152951|  HS-grad|            9|Married-civ-spouse|  Craft-repair|     Husband|             White|  Male|           0|           0|            40| United-States| <=50K|[1.36042364542549...|[0.79582854257047...|       0.0|\n",
            "|  0.0|(96,[0,6,21,28,40...| 27|  Private|203776|  HS-grad|            9|Married-civ-spouse|  Craft-repair|     Husband|             White|  Male|           0|           0|            50| United-States| <=50K|[1.07833934509985...|[0.74617959119355...|       1.0|\n",
            "|  0.0|(96,[0,6,21,28,40...| 27|  Private|410351|  HS-grad|            9|Married-civ-spouse|  Craft-repair|     Husband|             White|  Male|           0|           0|            40| United-States| <=50K|[1.23602047799050...|[0.77487056132917...|       0.0|\n",
            "+-----+--------------------+---+---------+------+---------+-------------+------------------+--------------+------------+------------------+------+------------+------------+--------------+--------------+------+--------------------+--------------------+----------+\n",
            "only showing top 20 rows\n",
            "\n"
          ]
        }
      ],
      "source": [
        "# Use test set to measure the accuracy of our model on new data\n",
        "lrCvPredictions = lrCvModel.transform(testData)\n",
        "\n",
        "lrCvPredictions.show()"
      ]
    },
    {
      "cell_type": "markdown",
      "metadata": {
        "application/vnd.databricks.v1+cell": {
          "inputWidgets": {},
          "nuid": "cff1a654-95f5-4e08-9705-76e133141de7",
          "showTitle": false,
          "title": ""
        },
        "id": "URk4kbLqOhHW"
      },
      "source": [
        "#### GBM - CV Model Predict"
      ]
    },
    {
      "cell_type": "code",
      "execution_count": 54,
      "metadata": {
        "application/vnd.databricks.v1+cell": {
          "inputWidgets": {},
          "nuid": "b7e0cddb-99ed-4fe9-9c46-ed9dc12f5044",
          "showTitle": false,
          "title": ""
        },
        "id": "oUZ3wcakOhHW",
        "outputId": "3ce33778-5bc8-4ff8-ae7b-098f1bf6e6bc",
        "colab": {
          "base_uri": "https://localhost:8080/"
        }
      },
      "outputs": [
        {
          "output_type": "stream",
          "name": "stdout",
          "text": [
            "+-----+--------------------+---+---------+------+---------+-------------+------------------+--------------+------------+------------------+------+------------+------------+--------------+--------------+------+--------------------+--------------------+----------+\n",
            "|label|            features|age|workclass|fnlwgt|education|education_num|    marital_status|    occupation|relationship|              race|   sex|capital_gain|capital_loss|hours_per_week|native_country|income|       rawPrediction|         probability|prediction|\n",
            "+-----+--------------------+---+---------+------+---------+-------------+------------------+--------------+------------+------------------+------+------------+------------+--------------+--------------+------+--------------------+--------------------+----------+\n",
            "|  0.0|(96,[0,6,21,27,40...| 26|  Private| 58426|  HS-grad|            9|Married-civ-spouse|Prof-specialty|     Husband|             White|  Male|           0|           0|            50| United-States| <=50K|[0.75754494661707...|[0.81981430410536...|       0.0|\n",
            "|  0.0|(96,[0,6,21,27,40...| 51|  Private| 94432|  HS-grad|            9|Married-civ-spouse|Prof-specialty|     Husband|             White|  Male|           0|           0|            40| United-States| <=50K|[0.10148487168714...|[0.55056894870563...|       0.0|\n",
            "|  0.0|(96,[0,6,21,27,40...| 51|  Private| 95469|  HS-grad|            9|Married-civ-spouse|Prof-specialty|     Husband|             White|  Male|           0|           0|            40| United-States| <=50K|[0.10148487168714...|[0.55056894870563...|       0.0|\n",
            "|  0.0|(96,[0,6,21,27,40...| 63|  Private|133144|  HS-grad|            9|Married-civ-spouse|Prof-specialty|     Husband|             White|  Male|           0|           0|            45| United-States| <=50K|[0.17495934437217...|[0.58659786101078...|       0.0|\n",
            "|  0.0|(96,[0,6,21,27,40...| 45|  Private| 26781|  HS-grad|            9|Married-civ-spouse|Prof-specialty|     Husband|Amer-Indian-Eskimo|  Male|           0|           0|             8| United-States| <=50K|[0.67146014718468...|[0.79296977258902...|       0.0|\n",
            "|  0.0|(96,[0,6,21,27,44...| 59|  Private|172071|  HS-grad|            9|Married-civ-spouse|Prof-specialty|        Wife|             Black|Female|           0|           0|            38|       Jamaica| <=50K|[0.28506062918656...|[0.63879115441480...|       0.0|\n",
            "|  0.0|(96,[0,6,21,28,40...| 20|  Private| 34568|  HS-grad|            9|Married-civ-spouse|  Craft-repair|     Husband|             White|  Male|        3781|           0|            35| United-States| <=50K|[2.37249363593811...|[0.99137978160910...|       0.0|\n",
            "|  0.0|(96,[0,6,21,28,40...| 34|  Private| 36069|  HS-grad|            9|Married-civ-spouse|  Craft-repair|     Husband|             White|  Male|        3908|           0|            46| United-States| <=50K|[1.44985951074767...|[0.94783254540335...|       0.0|\n",
            "|  0.0|(96,[0,6,21,28,40...| 56|  Private|286487|  HS-grad|            9|Married-civ-spouse|  Craft-repair|     Husband|             White|  Male|        2885|           0|            45| United-States| <=50K|[0.49978844305383...|[0.73097538125717...|       0.0|\n",
            "|  0.0|(96,[0,6,21,28,40...| 41|  Private|125831|  HS-grad|            9|Married-civ-spouse|  Craft-repair|     Husband|             White|  Male|           0|        2051|            60| United-States| <=50K|[0.97897326741545...|[0.87631054852180...|       0.0|\n",
            "|  0.0|(96,[0,6,21,28,40...| 42|  Private|117319|  HS-grad|            9|Married-civ-spouse|  Craft-repair|     Husband|             White|  Male|           0|        1672|            40| United-States| <=50K|[1.31277123562387...|[0.93248746792869...|       0.0|\n",
            "|  0.0|(96,[0,6,21,28,40...| 19|  Private|187352|  HS-grad|            9|Married-civ-spouse|  Craft-repair|     Husband|             White|  Male|           0|           0|            40| United-States| <=50K|[1.35992514047621...|[0.93818785188785...|       0.0|\n",
            "|  0.0|(96,[0,6,21,28,40...| 21|  Private|109952|  HS-grad|            9|Married-civ-spouse|  Craft-repair|     Husband|             White|  Male|           0|           0|            40| United-States| <=50K|[1.40390942360340...|[0.94309688035261...|       0.0|\n",
            "|  0.0|(96,[0,6,21,28,40...| 22|  Private| 58222|  HS-grad|            9|Married-civ-spouse|  Craft-repair|     Husband|             White|  Male|           0|           0|            40| United-States| <=50K|[1.41807912815754...|[0.94459875935909...|       0.0|\n",
            "|  0.0|(96,[0,6,21,28,40...| 22|  Private|173736|  HS-grad|            9|Married-civ-spouse|  Craft-repair|     Husband|             White|  Male|           0|           0|            40| United-States| <=50K|[1.35992514047621...|[0.93818785188785...|       0.0|\n",
            "|  0.0|(96,[0,6,21,28,40...| 24|  Private|235894|  HS-grad|            9|Married-civ-spouse|  Craft-repair|     Husband|             White|  Male|           0|           0|            38| United-States| <=50K|[1.36005771426891...|[0.93820322638288...|       0.0|\n",
            "|  0.0|(96,[0,6,21,28,40...| 26|  Private| 49092|  HS-grad|            9|Married-civ-spouse|  Craft-repair|     Husband|             White|  Male|           0|           0|            40| United-States| <=50K|[1.01326245919594...|[0.88355401586412...|       0.0|\n",
            "|  0.0|(96,[0,6,21,28,40...| 27|  Private|152951|  HS-grad|            9|Married-civ-spouse|  Craft-repair|     Husband|             White|  Male|           0|           0|            40| United-States| <=50K|[0.94034253798690...|[0.86768979588003...|       0.0|\n",
            "|  0.0|(96,[0,6,21,28,40...| 27|  Private|203776|  HS-grad|            9|Married-civ-spouse|  Craft-repair|     Husband|             White|  Male|           0|           0|            50| United-States| <=50K|[0.73417383821427...|[0.81280611106964...|       0.0|\n",
            "|  0.0|(96,[0,6,21,28,40...| 27|  Private|410351|  HS-grad|            9|Married-civ-spouse|  Craft-repair|     Husband|             White|  Male|           0|           0|            40| United-States| <=50K|[0.94034253798690...|[0.86768979588003...|       0.0|\n",
            "+-----+--------------------+---+---------+------+---------+-------------+------------------+--------------+------------+------------------+------+------------+------------+--------------+--------------+------+--------------------+--------------------+----------+\n",
            "only showing top 20 rows\n",
            "\n"
          ]
        }
      ],
      "source": [
        "gbCvPredictions = gbCvModel.transform(testData)\n",
        "\n",
        "gbCvPredictions.show()"
      ]
    },
    {
      "cell_type": "markdown",
      "metadata": {
        "application/vnd.databricks.v1+cell": {
          "inputWidgets": {},
          "nuid": "f9db16de-2dcd-45ee-9e00-50009530a361",
          "showTitle": false,
          "title": ""
        },
        "id": "q6DUHdzsOhHW"
      },
      "source": [
        "#### Logistic Regression - CV Model Evaluate"
      ]
    },
    {
      "cell_type": "code",
      "execution_count": 55,
      "metadata": {
        "application/vnd.databricks.v1+cell": {
          "inputWidgets": {},
          "nuid": "30e58e24-4d40-4c50-bbb0-73e059994495",
          "showTitle": false,
          "title": ""
        },
        "id": "vu7mBs2cOhHW",
        "outputId": "976749e2-8bd5-4154-c40c-1c789290eb54",
        "colab": {
          "base_uri": "https://localhost:8080/"
        }
      },
      "outputs": [
        {
          "output_type": "stream",
          "name": "stdout",
          "text": [
            "auc = 0.8987698383084476\n",
            "aupr = 0.7388790641562599\n"
          ]
        },
        {
          "output_type": "stream",
          "name": "stderr",
          "text": [
            "/usr/local/lib/python3.12/dist-packages/pyspark/sql/context.py:158: FutureWarning: Deprecated in 3.0.0. Use SparkSession.builder.getOrCreate() instead.\n",
            "  warnings.warn(\n"
          ]
        },
        {
          "output_type": "stream",
          "name": "stdout",
          "text": [
            "Area under PR = 0.5385030941309312\n",
            "Area under ROC = 0.8187950801310193\n",
            "Accuracy = 0.8024005334518782\n",
            "DenseMatrix([[5356., 1451.],\n",
            "             [ 327., 1864.]])\n",
            "F1 = 0.6770795495822739\n",
            "Precision = 0.5622926093514329\n",
            "Recall = 0.8507530807850296\n",
            "FPR = 0.21316292052299105\n",
            "TPR = 0.8507530807850296\n"
          ]
        }
      ],
      "source": [
        "print_performance_metrics(lrCvPredictions)"
      ]
    },
    {
      "cell_type": "markdown",
      "metadata": {
        "application/vnd.databricks.v1+cell": {
          "inputWidgets": {},
          "nuid": "f959c275-36a7-42a3-b1b7-551e28e651c9",
          "showTitle": false,
          "title": ""
        },
        "id": "FqSJkAoPOhHX"
      },
      "source": [
        "#### GBM - CV Model Evaluate"
      ]
    },
    {
      "cell_type": "code",
      "execution_count": 56,
      "metadata": {
        "application/vnd.databricks.v1+cell": {
          "inputWidgets": {},
          "nuid": "62cfc105-53b6-4690-b732-e6446b965087",
          "showTitle": false,
          "title": ""
        },
        "id": "OGQqyXKZOhHX",
        "outputId": "19fc596f-35da-4a21-a8af-1f63e164026d",
        "colab": {
          "base_uri": "https://localhost:8080/"
        }
      },
      "outputs": [
        {
          "output_type": "stream",
          "name": "stdout",
          "text": [
            "auc = 0.9232027639279425\n",
            "aupr = 0.8181371752544012\n",
            "Area under PR = 0.6916074476229501\n",
            "Area under ROC = 0.7887095310979108\n",
            "Accuracy = 0.8699711046899311\n",
            "DenseMatrix([[6447.,  360.],\n",
            "             [ 810., 1381.]])\n",
            "F1 = 0.7024415055951171\n",
            "Precision = 0.7932222860425043\n",
            "Recall = 0.6303057964399817\n",
            "FPR = 0.052886734244160426\n",
            "TPR = 0.6303057964399817\n"
          ]
        }
      ],
      "source": [
        "print_performance_metrics(gbCvPredictions)"
      ]
    },
    {
      "cell_type": "markdown",
      "metadata": {
        "application/vnd.databricks.v1+cell": {
          "inputWidgets": {},
          "nuid": "39417456-a688-48c7-9aa4-58801fbf147e",
          "showTitle": false,
          "title": ""
        },
        "id": "2NPLD6wNOhHX"
      },
      "source": [
        "#### Logistic Regression - Model Explore"
      ]
    },
    {
      "cell_type": "code",
      "execution_count": 57,
      "metadata": {
        "application/vnd.databricks.v1+cell": {
          "inputWidgets": {},
          "nuid": "f567014e-5897-4b4f-b8a5-0aa1b536fe9c",
          "showTitle": false,
          "title": ""
        },
        "colab": {
          "base_uri": "https://localhost:8080/"
        },
        "id": "tS28r3jOOhHX",
        "outputId": "2f6cbb40-236b-4e58-91ac-284496ee9a0b"
      },
      "outputs": [
        {
          "output_type": "stream",
          "name": "stdout",
          "text": [
            "Model Intercept:  -5.98609974707222\n"
          ]
        }
      ],
      "source": [
        "print('Model Intercept: ', lrCvModel.bestModel.intercept)"
      ]
    },
    {
      "cell_type": "code",
      "execution_count": 58,
      "metadata": {
        "application/vnd.databricks.v1+cell": {
          "inputWidgets": {},
          "nuid": "c5f8f9be-7672-4cee-83e1-3f72e632a07f",
          "showTitle": false,
          "title": ""
        },
        "colab": {
          "base_uri": "https://localhost:8080/"
        },
        "id": "xZr143XJOhHX",
        "outputId": "e0aff85c-9c16-4614-d5b8-3aaf8daf71b6"
      },
      "outputs": [
        {
          "output_type": "stream",
          "name": "stdout",
          "text": [
            "+--------------------+\n",
            "|      Feature Weight|\n",
            "+--------------------+\n",
            "| 0.09260461609674801|\n",
            "| -0.3111978093887234|\n",
            "|-0.11224651330403951|\n",
            "|-0.32523001274569024|\n",
            "|  0.3435913522566778|\n",
            "|  0.5285023452669972|\n",
            "|-0.21129129561291835|\n",
            "|-0.04740756034014...|\n",
            "|    0.38080815940267|\n",
            "|  0.6239480750844056|\n",
            "| 0.03328292128927499|\n",
            "|-0.43250378262644235|\n",
            "|-0.05176355875046...|\n",
            "| -0.4815021403394904|\n",
            "| -0.8118198317474722|\n",
            "|  1.1987212795401474|\n",
            "| -0.6100803645894385|\n",
            "|-0.49388826477351133|\n",
            "|  1.1141548182633687|\n",
            "|-0.37308473074751586|\n",
            "+--------------------+\n",
            "only showing top 20 rows\n",
            "\n"
          ]
        }
      ],
      "source": [
        "lrWeights = lrCvModel.bestModel.coefficients\n",
        "lrWeights = [(float(w),) for w in lrWeights]  # convert numpy type to float, and to tuple\n",
        "lrWeightsDF = spark.createDataFrame(lrWeights, [\"Feature Weight\"])\n",
        "lrWeightsDF.show()"
      ]
    },
    {
      "cell_type": "markdown",
      "metadata": {
        "application/vnd.databricks.v1+cell": {
          "inputWidgets": {},
          "nuid": "857e8f3b-45fb-4af6-b8ce-dd30d3190095",
          "showTitle": false,
          "title": ""
        },
        "id": "Hz7nxFIAOhHX"
      },
      "source": [
        "### Feature Importance"
      ]
    },
    {
      "cell_type": "markdown",
      "metadata": {
        "application/vnd.databricks.v1+cell": {
          "inputWidgets": {},
          "nuid": "03af6259-aa64-4309-a2a8-6207c8675e26",
          "showTitle": false,
          "title": ""
        },
        "id": "USPRL7NTOhHX"
      },
      "source": [
        "#### <span style=\"color:darkblue\">Question 8</span>\n",
        "1. Print out a table of feature_name and feature_coefficient from the Logistic Regression model.\n",
        "<br><br>\n",
        "Hint: Adapt the code from here: https://stackoverflow.com/questions/42935914/how-to-map-features-from-the-output-of-a-vectorassembler-back-to-the-column-name"
      ]
    },
    {
      "cell_type": "code",
      "source": [
        "### Question 8.1 Answer ###\n",
        "\n",
        "# from: https://stackoverflow.com/questions/42935914/how-to-map-features-from-the-output-of-a-vectorassembler-back-to-the-column-name\n",
        "\n",
        "from itertools import chain\n",
        "\n",
        "lrModel = lrCvModel.bestModel\n",
        "\n",
        "df_for_meta = trainingData\n",
        "features_col = lrModel.getFeaturesCol()\n",
        "\n",
        "meta = df_for_meta.schema[features_col].metadata\n",
        "attrs = meta.get(\"ml_attr\", {}).get(\"attrs\", {})\n",
        "all_attrs = list(chain.from_iterable(attrs.get(t, []) for t in [\"binary\", \"numeric\", \"nominal\"]))\n",
        "ordered_feature_names = [a[\"name\"] for a in sorted(all_attrs, key=lambda a: a[\"idx\"])]\n",
        "\n",
        "lrWeights = [float(w) for w in lrModel.coefficients]\n",
        "\n",
        "rows = list(zip(ordered_feature_names, lrWeights))\n",
        "lrWeightsDF = spark.createDataFrame(rows, [\"Feature Name\", \"Feature Weight\"])\n",
        "\n",
        "lrWeightsDF.orderBy(F.desc(F.abs(\"Feature Weight\"))).show(truncate=False)"
      ],
      "metadata": {
        "colab": {
          "base_uri": "https://localhost:8080/"
        },
        "id": "kmJOucX6qTgA",
        "outputId": "5b247af6-77c3-4eb8-9d0b-fe4c6cd7f2e6"
      },
      "execution_count": 77,
      "outputs": [
        {
          "output_type": "stream",
          "name": "stdout",
          "text": [
            "+-------------------------------------------------+-------------------+\n",
            "|Feature Name                                     |Feature Weight     |\n",
            "+-------------------------------------------------+-------------------+\n",
            "|native_countryclassVec_Nicaragua                 |-1.5337491220326345|\n",
            "|native_countryclassVec_Columbia                  |-1.337995656071686 |\n",
            "|native_countryclassVec_Cambodia                  |1.2463605204289523 |\n",
            "|native_countryclassVec_Outlying-US(Guam-USVI-etc)|-1.2341502367660389|\n",
            "|relationshipclassVec_Wife                        |1.224874564041714  |\n",
            "|educationclassVec_Prof-school                    |1.1987212795401474 |\n",
            "|native_countryclassVec_Peru                      |-1.1887537611138674|\n",
            "|educationclassVec_Doctorate                      |1.1141548182633687 |\n",
            "|native_countryclassVec_Dominican-Republic        |-1.0585398949981972|\n",
            "|native_countryclassVec_Yugoslavia                |0.9433860353937807 |\n",
            "|native_countryclassVec_Italy                     |0.9323964604027775 |\n",
            "|native_countryclassVec_Ireland                   |0.904889654151738  |\n",
            "|occupationclassVec_Farming-fishing               |-0.8623352376249087|\n",
            "|educationclassVec_7th-8th                        |-0.8118198317474722|\n",
            "|native_countryclassVec_Greece                    |-0.7640497192961233|\n",
            "|native_countryclassVec_South                     |-0.7609104103984459|\n",
            "|occupationclassVec_Priv-house-serv               |-0.7583449402597259|\n",
            "|native_countryclassVec_Trinadad&Tobago           |-0.7177301944110462|\n",
            "|occupationclassVec_Other-service                 |-0.7129399337387181|\n",
            "|marital_statusclassVec_Married-civ-spouse        |0.685159862863594  |\n",
            "+-------------------------------------------------+-------------------+\n",
            "only showing top 20 rows\n",
            "\n"
          ]
        }
      ]
    },
    {
      "cell_type": "code",
      "execution_count": 85,
      "metadata": {
        "application/vnd.databricks.v1+cell": {
          "inputWidgets": {},
          "nuid": "432159f9-6383-42eb-8ced-489f722d68e0",
          "showTitle": false,
          "title": ""
        },
        "id": "Y_tZAKZmOhHX"
      },
      "outputs": [],
      "source": [
        "#gbCvFeatureImportance = pd.DataFrame([(name, gbCvModel.bestModel.featureImportances[idx]) for idx, name in attrs],columns=['feature_name','feature_importance'])\n",
        "\n",
        "#print(gbCvFeatureImportance.sort_values(by=['feature_importance'],ascending =False))"
      ]
    },
    {
      "cell_type": "code",
      "source": [
        "fi = gbCvModel.bestModel.featureImportances\n",
        "\n",
        "rows = [(a['name'], float(fi[a['idx']])) for a in all_attrs]\n",
        "\n",
        "gbCvFeatureImportance = pd.DataFrame(rows, columns=['feature_name', 'feature_importance'])\n",
        "\n",
        "print(gbCvFeatureImportance.sort_values(by='feature_importance', ascending=False).to_string(index=False))"
      ],
      "metadata": {
        "colab": {
          "base_uri": "https://localhost:8080/"
        },
        "id": "eObatD6wwcCI",
        "outputId": "28461a05-db1d-45ca-be4f-0b65f61e83d8"
      },
      "execution_count": 86,
      "outputs": [
        {
          "output_type": "stream",
          "name": "stdout",
          "text": [
            "                                     feature_name  feature_importance\n",
            "        marital_statusclassVec_Married-civ-spouse            0.161255\n",
            "                                     capital_gain            0.148602\n",
            "                                              age            0.144768\n",
            "                                    education_num            0.131298\n",
            "                                     capital_loss            0.126865\n",
            "                                   hours_per_week            0.084017\n",
            "               occupationclassVec_Exec-managerial            0.030195\n",
            "                        relationshipclassVec_Wife            0.019951\n",
            "                 occupationclassVec_Other-service            0.016587\n",
            "                                 sexclassVec_Male            0.012096\n",
            "                      educationclassVec_Bachelors            0.011844\n",
            "               workclassclassVec_Self-emp-not-inc            0.010835\n",
            "               occupationclassVec_Farming-fishing            0.010052\n",
            "                                           fnlwgt            0.008941\n",
            "                occupationclassVec_Prof-specialty            0.007725\n",
            "                  occupationclassVec_Tech-support            0.007049\n",
            "                      workclassclassVec_Local-gov            0.005110\n",
            "                   relationshipclassVec_Own-child            0.004732\n",
            "                   relationshipclassVec_Unmarried            0.004552\n",
            "                    workclassclassVec_Federal-gov            0.004322\n",
            "               occupationclassVec_Protective-serv            0.004156\n",
            "                   workclassclassVec_Self-emp-inc            0.003516\n",
            "             marital_statusclassVec_Never-married            0.003370\n",
            "                               raceclassVec_White            0.002951\n",
            "             occupationclassVec_Handlers-cleaners            0.002549\n",
            "               relationshipclassVec_Not-in-family            0.001911\n",
            "             occupationclassVec_Machine-op-inspct            0.001782\n",
            "                     educationclassVec_Assoc-acdm            0.001743\n",
            "                  occupationclassVec_Adm-clerical            0.001706\n",
            "                      workclassclassVec_State-gov            0.001578\n",
            "                   marital_statusclassVec_Widowed            0.001477\n",
            "                        educationclassVec_Masters            0.001466\n",
            "                         occupationclassVec_Sales            0.001395\n",
            "                        workclassclassVec_Private            0.001328\n",
            "               native_countryclassVec_Puerto-Rico            0.001315\n",
            "             native_countryclassVec_United-States            0.001113\n",
            "                            educationclassVec_9th            0.001102\n",
            "                     native_countryclassVec_South            0.001055\n",
            "                     relationshipclassVec_Husband            0.001021\n",
            "                   native_countryclassVec_Vietnam            0.000837\n",
            "                     native_countryclassVec_Italy            0.000823\n",
            "                   native_countryclassVec_England            0.000780\n",
            "              occupationclassVec_Transport-moving            0.000704\n",
            "                   native_countryclassVec_Ireland            0.000669\n",
            "                  native_countryclassVec_Cambodia            0.000658\n",
            "                 marital_statusclassVec_Separated            0.000632\n",
            "                    native_countryclassVec_Canada            0.000585\n",
            "                        educationclassVec_7th-8th            0.000517\n",
            "                     native_countryclassVec_India            0.000516\n",
            "                    native_countryclassVec_Greece            0.000480\n",
            "                native_countryclassVec_Yugoslavia            0.000468\n",
            "                    native_countryclassVec_Taiwan            0.000442\n",
            "                     native_countryclassVec_China            0.000432\n",
            "                 native_countryclassVec_Guatemala            0.000407\n",
            "           native_countryclassVec_Trinadad&Tobago            0.000406\n",
            "                   educationclassVec_Some-college            0.000393\n",
            "                      educationclassVec_Doctorate            0.000380\n",
            "                      educationclassVec_Assoc-voc            0.000354\n",
            "                  occupationclassVec_Craft-repair            0.000303\n",
            "                    native_countryclassVec_Mexico            0.000293\n",
            "                  raceclassVec_Amer-Indian-Eskimo            0.000281\n",
            "                      native_countryclassVec_Cuba            0.000262\n",
            "                  native_countryclassVec_Columbia            0.000216\n",
            "                  raceclassVec_Asian-Pac-Islander            0.000207\n",
            "                   native_countryclassVec_Germany            0.000201\n",
            "                   native_countryclassVec_Ecuador            0.000194\n",
            "                  marital_statusclassVec_Divorced            0.000136\n",
            "                    educationclassVec_Prof-school            0.000096\n",
            "                           educationclassVec_11th            0.000000\n",
            "                        educationclassVec_HS-grad            0.000000\n",
            "                           educationclassVec_10th            0.000000\n",
            "                           educationclassVec_12th            0.000000\n",
            "                        educationclassVec_5th-6th            0.000000\n",
            "                        educationclassVec_1st-4th            0.000000\n",
            "               native_countryclassVec_El-Salvador            0.000000\n",
            "               occupationclassVec_Priv-house-serv            0.000000\n",
            "     marital_statusclassVec_Married-spouse-absent            0.000000\n",
            "               native_countryclassVec_Philippines            0.000000\n",
            "                               raceclassVec_Black            0.000000\n",
            "                   native_countryclassVec_Jamaica            0.000000\n",
            "                  native_countryclassVec_Portugal            0.000000\n",
            "                      native_countryclassVec_Iran            0.000000\n",
            "                     native_countryclassVec_Haiti            0.000000\n",
            "                    native_countryclassVec_Poland            0.000000\n",
            "                     native_countryclassVec_Japan            0.000000\n",
            "        native_countryclassVec_Dominican-Republic            0.000000\n",
            "                 native_countryclassVec_Nicaragua            0.000000\n",
            "                      native_countryclassVec_Peru            0.000000\n",
            "                      native_countryclassVec_Hong            0.000000\n",
            "                    native_countryclassVec_France            0.000000\n",
            "                      native_countryclassVec_Laos            0.000000\n",
            "                  native_countryclassVec_Thailand            0.000000\n",
            "native_countryclassVec_Outlying-US(Guam-USVI-etc)            0.000000\n",
            "                   native_countryclassVec_Hungary            0.000000\n",
            "                  native_countryclassVec_Honduras            0.000000\n",
            "                  native_countryclassVec_Scotland            0.000000\n"
          ]
        }
      ]
    },
    {
      "cell_type": "markdown",
      "metadata": {
        "application/vnd.databricks.v1+cell": {
          "inputWidgets": {},
          "nuid": "bd47490f-2880-4b55-9b80-e74faa0a7fef",
          "showTitle": false,
          "title": ""
        },
        "id": "QQAPcm6UOhHX"
      },
      "source": [
        "#### <span style=\"color:darkblue\">Question 9</span>\n",
        "1. Build and train a RandomForestClassifier and print out a table of feature importances from it."
      ]
    },
    {
      "cell_type": "code",
      "metadata": {
        "colab": {
          "base_uri": "https://localhost:8080/"
        },
        "id": "514ad378",
        "outputId": "366a2a3c-a9c7-4b55-94ae-913c19426371"
      },
      "source": [
        "### Question 9.1 Answer ###\n",
        "\n",
        "from pyspark.ml.classification import RandomForestClassifier\n",
        "\n",
        "rf = RandomForestClassifier(labelCol=\"label\", featuresCol=\"features\", numTrees=50, maxDepth=5, seed=42)\n",
        "\n",
        "rfModel = rf.fit(trainingData)\n",
        "\n",
        "fi = rfModel.featureImportances\n",
        "rows = [(name, float(fi[idx])) for idx, name in enumerate(feature_names)]\n",
        "rfFeatureImportance = pd.DataFrame(rows, columns=[\"feature_name\", \"feature_importance\"])\n",
        "print(rfFeatureImportance.sort_values(by=\"feature_importance\", ascending=False).to_string(index=False))"
      ],
      "execution_count": 88,
      "outputs": [
        {
          "output_type": "stream",
          "name": "stdout",
          "text": [
            "                                     feature_name  feature_importance\n",
            "                    educationclassVec_Prof-school        1.792405e-01\n",
            "                   native_countryclassVec_Hungary        1.475986e-01\n",
            "native_countryclassVec_Outlying-US(Guam-USVI-etc)        1.387691e-01\n",
            "              occupationclassVec_Transport-moving        1.136523e-01\n",
            "                            educationclassVec_9th        6.360557e-02\n",
            "                  native_countryclassVec_Thailand        6.080160e-02\n",
            "                  native_countryclassVec_Scotland        3.376822e-02\n",
            "                  marital_statusclassVec_Divorced        3.221348e-02\n",
            "               occupationclassVec_Farming-fishing        2.763463e-02\n",
            "                      workclassclassVec_State-gov        2.528798e-02\n",
            "                      workclassclassVec_Local-gov        2.502167e-02\n",
            "             occupationclassVec_Handlers-cleaners        2.161387e-02\n",
            "                  native_countryclassVec_Honduras        2.043112e-02\n",
            "        marital_statusclassVec_Married-civ-spouse        1.758277e-02\n",
            "     marital_statusclassVec_Married-spouse-absent        1.354273e-02\n",
            "                  occupationclassVec_Tech-support        1.219969e-02\n",
            "               occupationclassVec_Protective-serv        1.166661e-02\n",
            "                        educationclassVec_Masters        9.889000e-03\n",
            "                           educationclassVec_12th        9.597352e-03\n",
            "                     educationclassVec_Assoc-acdm        7.713041e-03\n",
            "                   relationshipclassVec_Unmarried        7.644983e-03\n",
            "                                     capital_loss        5.382610e-03\n",
            "                        workclassclassVec_Private        5.271877e-03\n",
            "                                           fnlwgt        1.594639e-03\n",
            "               occupationclassVec_Exec-managerial        9.436715e-04\n",
            "                  occupationclassVec_Adm-clerical        9.389172e-04\n",
            "             marital_statusclassVec_Never-married        9.020447e-04\n",
            "                native_countryclassVec_Yugoslavia        8.912943e-04\n",
            "                                              age        3.243572e-04\n",
            "                                    education_num        3.137526e-04\n",
            "               workclassclassVec_Self-emp-not-inc        3.077901e-04\n",
            "                        relationshipclassVec_Wife        2.964075e-04\n",
            "                   marital_statusclassVec_Widowed        2.707320e-04\n",
            "               relationshipclassVec_Not-in-family        2.481767e-04\n",
            "                  occupationclassVec_Craft-repair        2.278515e-04\n",
            "                occupationclassVec_Prof-specialty        2.131015e-04\n",
            "               occupationclassVec_Priv-house-serv        2.097091e-04\n",
            "                         occupationclassVec_Sales        2.012761e-04\n",
            "                    native_countryclassVec_Mexico        1.845269e-04\n",
            "                      educationclassVec_Bachelors        1.648937e-04\n",
            "                  raceclassVec_Asian-Pac-Islander        1.300643e-04\n",
            "                    workclassclassVec_Federal-gov        1.200769e-04\n",
            "                   educationclassVec_Some-college        1.165711e-04\n",
            "                           educationclassVec_11th        1.159551e-04\n",
            "                                     capital_gain        9.553743e-05\n",
            "                        educationclassVec_5th-6th        9.499918e-05\n",
            "                      educationclassVec_Assoc-voc        7.982626e-05\n",
            "                               raceclassVec_Black        7.874349e-05\n",
            "                                   hours_per_week        7.559205e-05\n",
            "                     native_countryclassVec_India        6.417271e-05\n",
            "                     relationshipclassVec_Husband        6.016217e-05\n",
            "                    native_countryclassVec_Canada        4.955074e-05\n",
            "                   native_countryclassVec_Vietnam        4.796857e-05\n",
            "                    native_countryclassVec_Taiwan        4.400141e-05\n",
            "                        educationclassVec_HS-grad        4.337154e-05\n",
            "                                 sexclassVec_Male        3.846343e-05\n",
            "                 native_countryclassVec_Guatemala        3.842198e-05\n",
            "                  raceclassVec_Amer-Indian-Eskimo        3.565405e-05\n",
            "                           educationclassVec_10th        3.233502e-05\n",
            "                     native_countryclassVec_South        2.951612e-05\n",
            "                  native_countryclassVec_Cambodia        2.911814e-05\n",
            "                     native_countryclassVec_Haiti        2.813419e-05\n",
            "                   native_countryclassVec_England        2.784023e-05\n",
            "               native_countryclassVec_El-Salvador        2.587336e-05\n",
            "                   relationshipclassVec_Own-child        2.353557e-05\n",
            "                 marital_statusclassVec_Separated        2.146737e-05\n",
            "                               raceclassVec_White        2.002733e-05\n",
            "                   native_countryclassVec_Germany        1.791577e-05\n",
            "                  native_countryclassVec_Portugal        1.598231e-05\n",
            "                      native_countryclassVec_Iran        1.378187e-05\n",
            "                     native_countryclassVec_China        1.166415e-05\n",
            "             occupationclassVec_Machine-op-inspct        6.358355e-06\n",
            "                      native_countryclassVec_Hong        3.966046e-06\n",
            "             native_countryclassVec_United-States        9.899220e-07\n",
            "                        educationclassVec_7th-8th        0.000000e+00\n",
            "                   workclassclassVec_Self-emp-inc        0.000000e+00\n",
            "                      educationclassVec_Doctorate        0.000000e+00\n",
            "                        educationclassVec_1st-4th        0.000000e+00\n",
            "                 occupationclassVec_Other-service        0.000000e+00\n",
            "               native_countryclassVec_Philippines        0.000000e+00\n",
            "               native_countryclassVec_Puerto-Rico        0.000000e+00\n",
            "                  native_countryclassVec_Columbia        0.000000e+00\n",
            "                    native_countryclassVec_Poland        0.000000e+00\n",
            "                     native_countryclassVec_Japan        0.000000e+00\n",
            "                   native_countryclassVec_Jamaica        0.000000e+00\n",
            "                      native_countryclassVec_Cuba        0.000000e+00\n",
            "                     native_countryclassVec_Italy        0.000000e+00\n",
            "        native_countryclassVec_Dominican-Republic        0.000000e+00\n",
            "                    native_countryclassVec_France        0.000000e+00\n",
            "                   native_countryclassVec_Ireland        0.000000e+00\n",
            "                    native_countryclassVec_Greece        0.000000e+00\n",
            "                   native_countryclassVec_Ecuador        0.000000e+00\n",
            "                      native_countryclassVec_Peru        0.000000e+00\n",
            "                 native_countryclassVec_Nicaragua        0.000000e+00\n",
            "           native_countryclassVec_Trinadad&Tobago        0.000000e+00\n",
            "                      native_countryclassVec_Laos        0.000000e+00\n"
          ]
        }
      ]
    }
  ],
  "metadata": {
    "application/vnd.databricks.v1+notebook": {
      "dashboards": [],
      "language": "python",
      "notebookName": "Spark DF, SQL, ML Exercise",
      "notebookOrigID": 2160390444796193,
      "widgets": {}
    },
    "language_info": {
      "name": "python"
    },
    "colab": {
      "provenance": []
    },
    "kernelspec": {
      "name": "python3",
      "display_name": "Python 3"
    }
  },
  "nbformat": 4,
  "nbformat_minor": 0
}